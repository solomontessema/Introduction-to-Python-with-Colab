{
  "nbformat": 4,
  "nbformat_minor": 0,
  "metadata": {
    "colab": {
      "provenance": [],
      "authorship_tag": "ABX9TyP9QsU+YpggSmXVR97nE10X",
      "include_colab_link": true
    },
    "kernelspec": {
      "name": "python3",
      "display_name": "Python 3"
    },
    "language_info": {
      "name": "python"
    }
  },
  "cells": [
    {
      "cell_type": "markdown",
      "metadata": {
        "id": "view-in-github",
        "colab_type": "text"
      },
      "source": [
        "<a href=\"https://colab.research.google.com/github/solomontessema/Introduction-to-Python-with-Colab/blob/master/Email_Sender_Module.ipynb\" target=\"_parent\"><img src=\"https://colab.research.google.com/assets/colab-badge.svg\" alt=\"Open In Colab\"/></a>"
      ]
    },
    {
      "cell_type": "code",
      "execution_count": 1,
      "metadata": {
        "colab": {
          "base_uri": "https://localhost:8080/"
        },
        "id": "3Cvty8lhS57N",
        "outputId": "ea39d4f7-6902-4db2-8cc2-31ee1c44a9ec"
      },
      "outputs": [
        {
          "output_type": "stream",
          "name": "stdout",
          "text": [
            "Email sent successfully.\n"
          ]
        }
      ],
      "source": [
        "import smtplib\n",
        "import os\n",
        "from email.mime.text import MIMEText\n",
        "from email.mime.multipart import MIMEMultipart\n",
        "from email.mime.application import MIMEApplication\n",
        "from dotenv import load_dotenv\n",
        "\n",
        "# Load environment variables\n",
        "load_dotenv()\n",
        "\n",
        "EMAIL_ADDRESS = os.getenv(\"EMAIL_ADDRESS\")\n",
        "EMAIL_PASSWORD = os.getenv(\"EMAIL_PASSWORD\")\n",
        "SMTP_SERVER = \"smtp.gmail.com\"\n",
        "SMTP_PORT = 587\n",
        "\n",
        "def send_email(to_address, subject, body, attachment_path=None):\n",
        "    if not EMAIL_ADDRESS or not EMAIL_PASSWORD:\n",
        "        raise ValueError(\"Missing EMAIL_ADDRESS or EMAIL_PASSWORD in environment.\")\n",
        "\n",
        "    # Create the email message\n",
        "    msg = MIMEMultipart()\n",
        "    msg[\"From\"] = EMAIL_ADDRESS\n",
        "    msg[\"To\"] = to_address\n",
        "    msg[\"Subject\"] = subject\n",
        "    msg.attach(MIMEText(body, \"plain\"))\n",
        "\n",
        "    # Send the email\n",
        "\n",
        "    with smtplib.SMTP(SMTP_SERVER, SMTP_PORT) as server:\n",
        "        server.ehlo()\n",
        "        server.starttls()\n",
        "        server.ehlo()\n",
        "        server.login(EMAIL_ADDRESS, EMAIL_PASSWORD)\n",
        "        server.send_message(msg)\n",
        "        print(\"Email sent successfully.\")\n",
        "\n",
        "\n",
        "if __name__ == \"__main__\":\n",
        "    send_email(\n",
        "        to_address=\"ionnova.llc@gmail.com\",\n",
        "        subject=\"Test from Agentic Assistant\",\n",
        "        body=\"This is a test message sent from the AI agent.\",\n",
        "    )"
      ]
    }
  ]
}