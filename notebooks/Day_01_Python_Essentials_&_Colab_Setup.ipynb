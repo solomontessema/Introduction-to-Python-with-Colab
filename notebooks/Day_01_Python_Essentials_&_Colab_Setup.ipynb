{
  "nbformat": 4,
  "nbformat_minor": 0,
  "metadata": {
    "colab": {
      "provenance": []
    },
    "kernelspec": {
      "name": "python3",
      "display_name": "Python 3"
    },
    "language_info": {
      "name": "python"
    }
  },
  "cells": [
    {
      "cell_type": "markdown",
      "metadata": {
        "id": "view-in-github",
        "colab_type": "text"
      },
      "source": [
        "<a href=\"https://colab.research.google.com/github/solomontessema/Introduction-to-Python-with-Colab/blob/master/notebooks/Day_01_Python_Essentials_&_Colab_Setup.ipynb\" target=\"_parent\"><img src=\"https://colab.research.google.com/assets/colab-badge.svg\" alt=\"Open In Colab\"/></a>"
      ]
    },
    {
      "cell_type": "markdown",
      "source": [
        "<table>\n",
        "  <tr>\n",
        "    <td><img src=\"https://ionnova.com/img/ionnova_logo_name_2.png\" width=\"120px\"></td>\n",
        "    <td><h1>Day 1: Python Essentials  & Colab Setup</h1></td>\n",
        "  </tr>\n",
        "</table>\n",
        "\n"
      ],
      "metadata": {
        "id": "oE93cDAAXO-U"
      }
    },
    {
      "cell_type": "markdown",
      "source": [
        "### 🖨️ Printing Your First Message\n",
        "\n",
        "The `print()` function displays output in Python. Try running the cell below to see your first message appear!\n"
      ],
      "metadata": {
        "id": "NAy1ih4JupP7"
      }
    },
    {
      "cell_type": "code",
      "source": [
        "print(\"Hello world\")"
      ],
      "metadata": {
        "id": "-gb3n34HGNiy"
      },
      "execution_count": null,
      "outputs": []
    },
    {
      "cell_type": "markdown",
      "source": [
        "### 💡 Understanding Variables\n",
        "\n",
        "Variables store data that your program can use and manipulate. You can assign numbers, text, or even complex objects to a variable.\n",
        "\n",
        "Let’s explore how to define and print variables.\n"
      ],
      "metadata": {
        "id": "iJSrbCcWGruk"
      }
    },
    {
      "cell_type": "code",
      "source": [
        "price = 12.99\n",
        "print(\"Price: \", price)"
      ],
      "metadata": {
        "id": "LRp38o8mJp-b"
      },
      "execution_count": null,
      "outputs": []
    },
    {
      "cell_type": "code",
      "source": [
        "price = 12 + 34\n",
        "print(\"Price: \", price)"
      ],
      "metadata": {
        "id": "WYi_vZ8oGor0"
      },
      "execution_count": null,
      "outputs": []
    },
    {
      "cell_type": "code",
      "source": [
        "name = \"Solomon\"\n",
        "print(name)"
      ],
      "metadata": {
        "id": "4jxrFqiqJPWr"
      },
      "execution_count": null,
      "outputs": []
    },
    {
      "cell_type": "markdown",
      "source": [
        "### ✅ Boolean Values\n",
        "\n",
        "Booleans represent truth values: `True` or `False`. They're essential for decision-making in your code.\n",
        "\n",
        "Try setting a Boolean variable and printing it below.\n"
      ],
      "metadata": {
        "id": "gCJgtRG84Gqz"
      }
    },
    {
      "cell_type": "code",
      "source": [
        "# Boolean\n",
        "is_active = False\n",
        "\n",
        "print(is_active)"
      ],
      "metadata": {
        "id": "UH9KVLYIJ409"
      },
      "execution_count": null,
      "outputs": []
    },
    {
      "cell_type": "markdown",
      "source": [
        "### 🔀 Making Decisions with `if`, `else`, and `elif`\n",
        "\n",
        "Control flow lets your program respond to different conditions. Use `if` to check a condition, `else` for the fallback, and `elif` for multiple checks.\n",
        "\n",
        "Run the examples below and observe how the output changes based on the value of `price`.\n"
      ],
      "metadata": {
        "id": "hSbEzwC_KloK"
      }
    },
    {
      "cell_type": "code",
      "source": [
        "if price > 15:\n",
        "  print (\"Big Number\")\n",
        "else:\n",
        "  print (\"Small Number\")"
      ],
      "metadata": {
        "id": "ip1XQfSWKsVj"
      },
      "execution_count": null,
      "outputs": []
    },
    {
      "cell_type": "code",
      "source": [
        "if price < 10:\n",
        "  print (\"Small Number\")\n",
        "elif price < 15:\n",
        "  print (\"Medium Number\")\n",
        "else:\n",
        "  print (\"Big Number\")\n"
      ],
      "metadata": {
        "id": "KyQBPMJfLn2q"
      },
      "execution_count": null,
      "outputs": []
    },
    {
      "cell_type": "markdown",
      "source": [
        "## 🧪 Quiz Time: Test Your Python Knowledge!\n",
        "\n",
        "Ready to challenge yourself? Run the cell below to launch a short quiz based on what you've learned today.\n",
        "\n",
        "This quiz pulls questions from a JSON file and uses a custom runner to display them interactively. Good luck!\n"
      ],
      "metadata": {
        "id": "aAPSUUWRrrDX"
      }
    },
    {
      "cell_type": "code",
      "source": [
        "import requests, json\n",
        "questions = json.loads(requests.get(\"https://raw.githubusercontent.com/solomontessema/Introduction-to-Python-with-Colab/master/quizzes/quiz_01.json\").text)\n",
        "exec(requests.get(\"https://raw.githubusercontent.com/solomontessema/Introduction-to-Python-with-Colab/master/quizzes/quiz_runner.py\").text)\n",
        "run_quiz(questions)\n"
      ],
      "metadata": {
        "id": "TJ7PbNdJpxG9"
      },
      "execution_count": null,
      "outputs": []
    }
  ]
}
