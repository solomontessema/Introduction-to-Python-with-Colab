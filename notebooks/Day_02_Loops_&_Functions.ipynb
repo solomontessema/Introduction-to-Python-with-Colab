{
  "nbformat": 4,
  "nbformat_minor": 0,
  "metadata": {
    "colab": {
      "provenance": [],
      "include_colab_link": true
    },
    "kernelspec": {
      "name": "python3",
      "display_name": "Python 3"
    },
    "language_info": {
      "name": "python"
    }
  },
  "cells": [
    {
      "cell_type": "markdown",
      "metadata": {
        "id": "view-in-github",
        "colab_type": "text"
      },
      "source": [
        "<a href=\"https://colab.research.google.com/github/solomontessema/Introduction-to-Python-with-Colab/blob/master/notebooks/Day_02_Loops_%26_Functions.ipynb\" target=\"_parent\"><img src=\"https://colab.research.google.com/assets/colab-badge.svg\" alt=\"Open In Colab\"/></a>"
      ]
    },
    {
      "cell_type": "markdown",
      "source": [
        "<table>\n",
        "  <tr>\n",
        "    <td><img src=\"https://ionnova.com/img/ionnova_logo_name_2.png\" width=\"120px\"></td>\n",
        "    <td><h1>Day 2: Loops & Functions</h1></td>\n",
        "  </tr>\n",
        "</table>"
      ],
      "metadata": {
        "id": "dzTOkY5m3voT"
      }
    },
    {
      "cell_type": "markdown",
      "source": [
        "- **Loops** help us repeat tasks efficiently.\n",
        "- **Functions** let us package logic into reusable blocks.\n",
        "\n",
        "By the end of this lesson, you’ll be able to:\n",
        "\n",
        "✅ Write loops that automate tasks  \n",
        "✅ Build functions that simplify your code  \n",
        "✅ Combine both to solve real-world problems\n"
      ],
      "metadata": {
        "id": "mK_onpDbYiJe"
      }
    },
    {
      "cell_type": "code",
      "source": [
        "# Using a while loop to count down from 5 to 1\n",
        "count = 5\n",
        "while count > 0:\n",
        "    print(f\"Countdown: {count}\")\n",
        "    count -= 1\n"
      ],
      "metadata": {
        "id": "vlnbCeXA4qzL"
      },
      "execution_count": null,
      "outputs": []
    },
    {
      "cell_type": "code",
      "source": [
        "# Using a for loop to print numbers from 1 to 5\n",
        "for i in range(1, 6):\n",
        "    print(f\"Number: {i}\")\n"
      ],
      "metadata": {
        "id": "sZ3P5qRC38JR"
      },
      "execution_count": null,
      "outputs": []
    },
    {
      "cell_type": "code",
      "source": [
        "# Defining a function to greet a user\n",
        "def greet(name):\n",
        "    print(f\"Hello, {name}! Welcome to Python.\")\n",
        "\n",
        "# Calling the function\n",
        "greet(\"Alice\")\n",
        "greet(\"Bob\")\n"
      ],
      "metadata": {
        "id": "sSkbNBBz4yxB"
      },
      "execution_count": null,
      "outputs": []
    },
    {
      "cell_type": "code",
      "source": [
        "# Function that prints a multiplication table for a given number\n",
        "def multiplication_table(n):\n",
        "    for i in range(1, 11):\n",
        "        print(f\"{n} x {i} = {n * i}\")\n",
        "\n",
        "# Using a loop to generate tables for numbers 1 to 3\n",
        "for num in range(1, 4):\n",
        "    print(f\"\\nMultiplication Table for {num}\")\n",
        "    multiplication_table(num)\n"
      ],
      "metadata": {
        "id": "Sj9V_o3542Iy"
      },
      "execution_count": null,
      "outputs": []
    },
    {
      "cell_type": "markdown",
      "source": [
        "### 🧮 Hands-On: Tip Calculator with Loops\n",
        "\n",
        "Let’s build a tool that helps a restaurant split the bill and calculate tips for each person.\n",
        "\n",
        "#### Your Task:\n",
        "1. Ask how many people are splitting the bill.\n",
        "2. Use a `for` loop to collect each person’s meal cost.\n",
        "3. Calculate a 15% tip for each person.\n",
        "4. Print the total cost + tip for each person.\n",
        "\n",
        "You’ll start with some code — complete the rest!\n"
      ],
      "metadata": {
        "id": "Loop8TMpY-QZ"
      }
    },
    {
      "cell_type": "code",
      "source": [
        "# 🧠 Starter Code: Tip Calculator\n",
        "\n",
        "# Step 1: Ask how many people\n",
        "num_people = int(input(\"How many people are splitting the bill? \"))\n",
        "\n",
        "# Step 2: Loop through each person\n",
        "for i in range(num_people):\n",
        "    cost = float(input(f\"Enter meal cost for person {i+1}: \"))\n",
        "\n",
        "    # Step 3: Calculate tip\n",
        "    tip = _____  # Hint: 15% of cost\n",
        "\n",
        "    # Step 4: Print total\n",
        "    total = _____  # Hint: cost + tip\n",
        "    print(f\"Person {i+1} total with tip: ${total:.2f}\")\n"
      ],
      "metadata": {
        "id": "N4Mayx8bZC0m"
      },
      "execution_count": null,
      "outputs": []
    },
    {
      "cell_type": "markdown",
      "source": [
        "### 🗣️ Function Practice: Greeting Generator\n",
        "\n",
        "Let’s write a function that greets people by name and mood.\n",
        "\n",
        "#### Your Task:\n",
        "1. Define a function `greet(name, mood)`\n",
        "2. Print a message like: `\"Hello, Alex! You seem happy today.\"`\n",
        "3. Call the function with different names and moods.\n"
      ],
      "metadata": {
        "id": "U4JDeb-MZ73e"
      }
    },
    {
      "cell_type": "code",
      "source": [
        "# 🧠 Starter Code: Greeting Generator\n",
        "\n",
        "def greet(name, mood):\n",
        "    # Step 1: Print a personalized message\n",
        "    print(f\"Hello, {name}! You seem _____ today.\")  # Fill in the blank\n",
        "\n",
        "# Step 2: Call the function\n",
        "greet(\"Alex\", \"happy\")\n",
        "greet(\"Jordan\", \"curious\")\n"
      ],
      "metadata": {
        "id": "eXargxVFaAZJ"
      },
      "execution_count": null,
      "outputs": []
    },
    {
      "cell_type": "markdown",
      "source": [
        "## 🧪 Quiz Time: Test Your Python Knowledge!\n",
        "\n",
        "Ready to challenge yourself? Run the cell below to launch a short quiz based on what you've learned today.\n",
        "\n",
        "This quiz pulls questions from a JSON file and uses a custom runner to display them interactively. Good luck!\n"
      ],
      "metadata": {
        "id": "Gr8w8bnfaZcP"
      }
    },
    {
      "cell_type": "code",
      "source": [
        "import requests, json\n",
        "questions = json.loads(requests.get(\"https://raw.githubusercontent.com/solomontessema/Introduction-to-Python-with-Colab/master/quizzes/quiz_02.json\").text)\n",
        "exec(requests.get(\"https://raw.githubusercontent.com/solomontessema/Introduction-to-Python-with-Colab/master/quizzes/quiz_runner.py\").text)\n",
        "run_quiz(questions)\n"
      ],
      "metadata": {
        "id": "TJ7PbNdJpxG9"
      },
      "execution_count": null,
      "outputs": []
    }
  ]
}