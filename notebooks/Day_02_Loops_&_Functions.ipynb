{
  "nbformat": 4,
  "nbformat_minor": 0,
  "metadata": {
    "colab": {
      "provenance": [],
      "include_colab_link": true
    },
    "kernelspec": {
      "name": "python3",
      "display_name": "Python 3"
    },
    "language_info": {
      "name": "python"
    }
  },
  "cells": [
    {
      "cell_type": "markdown",
      "metadata": {
        "id": "view-in-github",
        "colab_type": "text"
      },
      "source": [
        "<a href=\"https://colab.research.google.com/github/solomontessema/Introduction-to-Python-with-Colab/blob/master/notebooks/Day_02_Loops_%26_Functions.ipynb\" target=\"_parent\"><img src=\"https://colab.research.google.com/assets/colab-badge.svg\" alt=\"Open In Colab\"/></a>"
      ]
    },
    {
      "cell_type": "markdown",
      "source": [
        "<table>\n",
        "  <tr>\n",
        "    <td><img src=\"https://ionnova.com/img/ionnova_logo_name_2.png\" width=\"120px\"></td>\n",
        "    <td><h1>Day 2: Loops & Functions</h1></td>\n",
        "  </tr>\n",
        "</table>"
      ],
      "metadata": {
        "id": "dzTOkY5m3voT"
      }
    },
    {
      "cell_type": "code",
      "source": [
        "# Using a while loop to count down from 5 to 1\n",
        "count = 5\n",
        "while count > 0:\n",
        "    print(f\"Countdown: {count}\")\n",
        "    count -= 1\n"
      ],
      "metadata": {
        "id": "vlnbCeXA4qzL"
      },
      "execution_count": null,
      "outputs": []
    },
    {
      "cell_type": "code",
      "source": [
        "# Using a for loop to print numbers from 1 to 5\n",
        "for i in range(1, 6):\n",
        "    print(f\"Number: {i}\")\n"
      ],
      "metadata": {
        "id": "sZ3P5qRC38JR"
      },
      "execution_count": null,
      "outputs": []
    },
    {
      "cell_type": "code",
      "source": [
        "# Defining a function to greet a user\n",
        "def greet(name):\n",
        "    print(f\"Hello, {name}! Welcome to Python.\")\n",
        "\n",
        "# Calling the function\n",
        "greet(\"Alice\")\n",
        "greet(\"Bob\")\n"
      ],
      "metadata": {
        "id": "sSkbNBBz4yxB"
      },
      "execution_count": null,
      "outputs": []
    },
    {
      "cell_type": "code",
      "source": [
        "# Function that prints a multiplication table for a given number\n",
        "def multiplication_table(n):\n",
        "    for i in range(1, 11):\n",
        "        print(f\"{n} x {i} = {n * i}\")\n",
        "\n",
        "# Using a loop to generate tables for numbers 1 to 3\n",
        "for num in range(1, 4):\n",
        "    print(f\"\\nMultiplication Table for {num}\")\n",
        "    multiplication_table(num)\n"
      ],
      "metadata": {
        "id": "Sj9V_o3542Iy"
      },
      "execution_count": null,
      "outputs": []
    }
  ]
}