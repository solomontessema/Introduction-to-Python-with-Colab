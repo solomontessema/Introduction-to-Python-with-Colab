{
  "nbformat": 4,
  "nbformat_minor": 0,
  "metadata": {
    "colab": {
      "provenance": [],
      "include_colab_link": true
    },
    "kernelspec": {
      "name": "python3",
      "display_name": "Python 3"
    },
    "language_info": {
      "name": "python"
    }
  },
  "cells": [
    {
      "cell_type": "markdown",
      "metadata": {
        "id": "view-in-github",
        "colab_type": "text"
      },
      "source": [
        "<a href=\"https://colab.research.google.com/github/solomontessema/Introduction-to-Python-with-Colab/blob/master/notebooks/Day_08_Data_Analysis_with_Pandas.ipynb\" target=\"_parent\"><img src=\"https://colab.research.google.com/assets/colab-badge.svg\" alt=\"Open In Colab\"/></a>"
      ]
    },
    {
      "cell_type": "markdown",
      "source": [
        "<table>\n",
        "  <tr>\n",
        "    <td><img src=\"https://ionnova.com/img/ionnova_logo_name_2.png\" width=\"120px\"></td>\n",
        "    <td><h1>Day 08: Data Analysis with Pandas</h1></td>\n",
        "  </tr>\n",
        "</table>"
      ],
      "metadata": {
        "id": "7gLSS7q_nad4"
      }
    },
    {
      "cell_type": "markdown",
      "source": [
        "# Concepts Covered:\n",
        "\n",
        "\n",
        "*   Loading and exploring datasets with pandas\n",
        "*   Data cleaning: handling missing values, duplicates\n",
        "*   Filtering, sorting, and grouping data\n",
        "*   Merging and joining DataFrames\n",
        "*   Exporting to CSV and JSON\n",
        "\n",
        "\n"
      ],
      "metadata": {
        "id": "QEcpcQFXl9fo"
      }
    },
    {
      "cell_type": "code",
      "source": [
        "import pandas as pd"
      ],
      "metadata": {
        "id": "CoEmkmvNmLt_"
      },
      "execution_count": 1,
      "outputs": []
    },
    {
      "cell_type": "code",
      "source": [
        "# Create a simple dataset using a dictionary\n",
        "data = {\n",
        "    'Name': ['Alice', 'Bob', 'Charlie', 'David', 'Eve', None],\n",
        "    'Age': [25, 30, None, 22, 29, 30],\n",
        "    'City': ['NY', 'LA', 'NY', 'Chicago', 'LA', 'Chicago']\n",
        "}\n",
        "df = pd.DataFrame(data)\n",
        "\n",
        "print(\"Original DataFrame:\")\n",
        "print(df)\n",
        "\n"
      ],
      "metadata": {
        "id": "XUsveo7zC1Rm",
        "colab": {
          "base_uri": "https://localhost:8080/"
        },
        "outputId": "cdc17e35-8df5-461a-e80c-0d7def6f9218"
      },
      "execution_count": 9,
      "outputs": [
        {
          "output_type": "stream",
          "name": "stdout",
          "text": [
            "Original DataFrame:\n",
            "      Name   Age     City\n",
            "0    Alice  25.0       NY\n",
            "1      Bob  30.0       LA\n",
            "2  Charlie   NaN       NY\n",
            "3    David  22.0  Chicago\n",
            "4      Eve  29.0       LA\n",
            "5     None  30.0  Chicago\n"
          ]
        }
      ]
    },
    {
      "cell_type": "code",
      "source": [
        "# Drop rows with any missing values\n",
        "df_cleaned = df.dropna()\n",
        "\n",
        "print(\"After dropping missing values:\")\n",
        "print(df_cleaned)\n"
      ],
      "metadata": {
        "id": "IuB6JtMnNauf",
        "colab": {
          "base_uri": "https://localhost:8080/"
        },
        "outputId": "e9a6020a-d3f1-4421-80d9-890fc1650011"
      },
      "execution_count": 10,
      "outputs": [
        {
          "output_type": "stream",
          "name": "stdout",
          "text": [
            "After dropping missing values:\n",
            "    Name   Age     City\n",
            "0  Alice  25.0       NY\n",
            "1    Bob  30.0       LA\n",
            "3  David  22.0  Chicago\n",
            "4    Eve  29.0       LA\n"
          ]
        }
      ]
    },
    {
      "cell_type": "code",
      "source": [
        "# Drop duplicate rows\n",
        "df_cleaned = df_cleaned.drop_duplicates()\n",
        "\n",
        "print(\"After dropping duplicates:\")\n",
        "print(df_cleaned)\n"
      ],
      "metadata": {
        "id": "tpgBiXeFC0KS",
        "colab": {
          "base_uri": "https://localhost:8080/"
        },
        "outputId": "d717a4f9-4804-4f84-a728-fdb2a44532ae"
      },
      "execution_count": 11,
      "outputs": [
        {
          "output_type": "stream",
          "name": "stdout",
          "text": [
            "After dropping duplicates:\n",
            "    Name   Age     City\n",
            "0  Alice  25.0       NY\n",
            "1    Bob  30.0       LA\n",
            "3  David  22.0  Chicago\n",
            "4    Eve  29.0       LA\n"
          ]
        }
      ]
    },
    {
      "cell_type": "code",
      "source": [
        "# Sort by Age\n",
        "sorted_df = df_cleaned.sort_values(by='Age')\n",
        "\n",
        "print(\"Sorted by Age:\")\n",
        "print(sorted_df)\n"
      ],
      "metadata": {
        "id": "vwmlcuXcHQif",
        "colab": {
          "base_uri": "https://localhost:8080/"
        },
        "outputId": "a942b109-3cb9-4987-fdd7-354c0ac9ee1d"
      },
      "execution_count": 12,
      "outputs": [
        {
          "output_type": "stream",
          "name": "stdout",
          "text": [
            "Sorted by Age:\n",
            "    Name   Age     City\n",
            "3  David  22.0  Chicago\n",
            "0  Alice  25.0       NY\n",
            "4    Eve  29.0       LA\n",
            "1    Bob  30.0       LA\n"
          ]
        }
      ]
    },
    {
      "cell_type": "code",
      "source": [
        "# Create another DataFrame to merge\n",
        "extra_data = {\n",
        "    'City': ['NY', 'LA', 'Chicago'],\n",
        "    'Population': [8000000, 4000000, 2700000]\n",
        "}\n",
        "df_extra = pd.DataFrame(extra_data)\n",
        "\n",
        "# Merge on 'City'\n",
        "merged_df = pd.merge(df_cleaned, df_extra, on='City')\n",
        "\n",
        "print(\"Merged DataFrame:\")\n",
        "print(merged_df)\n"
      ],
      "metadata": {
        "colab": {
          "base_uri": "https://localhost:8080/"
        },
        "id": "Gi4Fk_Z6o_RV",
        "outputId": "bef78e7f-4ba9-4eba-fd24-89d6a602873a"
      },
      "execution_count": 15,
      "outputs": [
        {
          "output_type": "stream",
          "name": "stdout",
          "text": [
            "Merged DataFrame:\n",
            "    Name   Age     City  Population\n",
            "0  Alice  25.0       NY     8000000\n",
            "1    Bob  30.0       LA     4000000\n",
            "2  David  22.0  Chicago     2700000\n",
            "3    Eve  29.0       LA     4000000\n"
          ]
        }
      ]
    },
    {
      "cell_type": "code",
      "source": [
        "# Export to CSV and JSON\n",
        "merged_df.to_csv('merged_data.csv', index=False)\n",
        "merged_df.to_json('merged_data.json', orient='records')\n",
        "\n",
        "print(\"Data exported to CSV and JSON!\")\n"
      ],
      "metadata": {
        "colab": {
          "base_uri": "https://localhost:8080/"
        },
        "id": "ePenCfmgpI5J",
        "outputId": "93375ff2-b09d-4115-fba2-92ed4d9730e5"
      },
      "execution_count": 14,
      "outputs": [
        {
          "output_type": "stream",
          "name": "stdout",
          "text": [
            "Data exported to CSV and JSON!\n"
          ]
        }
      ]
    }
  ]
}