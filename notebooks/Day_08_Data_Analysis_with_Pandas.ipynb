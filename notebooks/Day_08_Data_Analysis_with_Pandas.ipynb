{
  "nbformat": 4,
  "nbformat_minor": 0,
  "metadata": {
    "colab": {
      "provenance": [],
      "include_colab_link": true
    },
    "kernelspec": {
      "name": "python3",
      "display_name": "Python 3"
    },
    "language_info": {
      "name": "python"
    }
  },
  "cells": [
    {
      "cell_type": "markdown",
      "metadata": {
        "id": "view-in-github",
        "colab_type": "text"
      },
      "source": [
        "<a href=\"https://colab.research.google.com/github/solomontessema/Introduction-to-Python-with-Colab/blob/master/notebooks/Day_08_Data_Analysis_with_Pandas.ipynb\" target=\"_parent\"><img src=\"https://colab.research.google.com/assets/colab-badge.svg\" alt=\"Open In Colab\"/></a>"
      ]
    },
    {
      "cell_type": "markdown",
      "source": [
        "<table>\n",
        "  <tr>\n",
        "    <td><img src=\"https://ionnova.com/img/ionnova_logo_name_2.png\" width=\"120px\"></td>\n",
        "    <td><h1>Day 08: Data Analysis with Pandas</h1></td>\n",
        "  </tr>\n",
        "</table>"
      ],
      "metadata": {
        "id": "7gLSS7q_nad4"
      }
    },
    {
      "cell_type": "markdown",
      "source": [
        "# Concepts Covered:\n",
        "\n",
        "\n",
        "*   Loading and exploring datasets with pandas\n",
        "*   Data cleaning: handling missing values, duplicates\n",
        "*   Filtering, sorting, and grouping data\n",
        "*   Merging and joining DataFrames\n",
        "*   Exporting to CSV and JSON\n",
        "\n",
        "\n"
      ],
      "metadata": {
        "id": "QEcpcQFXl9fo"
      }
    },
    {
      "cell_type": "code",
      "source": [
        "import pandas as pd"
      ],
      "metadata": {
        "id": "CoEmkmvNmLt_"
      },
      "execution_count": null,
      "outputs": []
    },
    {
      "cell_type": "code",
      "source": [
        "# Create a simple dataset using a dictionary\n",
        "data = {\n",
        "    'Name': ['Alice', 'Bob', 'Charlie', 'David', 'Eve', None],\n",
        "    'Age': [25, 30, None, 22, 29, 30],\n",
        "    'City': ['NY', 'LA', 'NY', 'Chicago', 'LA', 'Chicago']\n",
        "}\n",
        "df = pd.DataFrame(data)\n",
        "\n",
        "print(\"Original DataFrame:\")\n",
        "print(df)\n",
        "\n"
      ],
      "metadata": {
        "id": "XUsveo7zC1Rm"
      },
      "execution_count": null,
      "outputs": []
    },
    {
      "cell_type": "code",
      "source": [
        "# Drop rows with any missing values\n",
        "df_cleaned = df.dropna()\n",
        "\n",
        "print(\"After dropping missing values:\")\n",
        "print(df_cleaned)\n"
      ],
      "metadata": {
        "id": "IuB6JtMnNauf"
      },
      "execution_count": null,
      "outputs": []
    },
    {
      "cell_type": "code",
      "source": [
        "# Drop duplicate rows\n",
        "df_cleaned = df_cleaned.drop_duplicates()\n",
        "\n",
        "print(\"After dropping duplicates:\")\n",
        "print(df_cleaned)\n"
      ],
      "metadata": {
        "id": "tpgBiXeFC0KS"
      },
      "execution_count": null,
      "outputs": []
    },
    {
      "cell_type": "code",
      "source": [
        "# Sort by Age\n",
        "sorted_df = df_cleaned.sort_values(by='Age')\n",
        "\n",
        "print(\"Sorted by Age:\")\n",
        "print(sorted_df)\n"
      ],
      "metadata": {
        "id": "vwmlcuXcHQif"
      },
      "execution_count": null,
      "outputs": []
    },
    {
      "cell_type": "code",
      "source": [
        "# Create another DataFrame to merge\n",
        "extra_data = {\n",
        "    'City': ['NY', 'LA', 'Chicago'],\n",
        "    'Population': [8000000, 4000000, 2700000]\n",
        "}\n",
        "df_extra = pd.DataFrame(extra_data)\n",
        "\n",
        "# Merge on 'City'\n",
        "merged_df = pd.merge(df_cleaned, df_extra, on='City')\n",
        "\n",
        "print(\"Merged DataFrame:\")\n",
        "print(merged_df)\n"
      ],
      "metadata": {
        "id": "Gi4Fk_Z6o_RV"
      },
      "execution_count": null,
      "outputs": []
    },
    {
      "cell_type": "code",
      "source": [
        "# Export to CSV and JSON\n",
        "merged_df.to_csv('merged_data.csv', index=False)\n",
        "merged_df.to_json('merged_data.json', orient='records')\n",
        "\n",
        "print(\"Data exported to CSV and JSON!\")\n"
      ],
      "metadata": {
        "id": "ePenCfmgpI5J"
      },
      "execution_count": null,
      "outputs": []
    }
  ]
}