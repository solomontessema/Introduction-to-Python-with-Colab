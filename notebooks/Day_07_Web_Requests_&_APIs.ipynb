{
  "nbformat": 4,
  "nbformat_minor": 5,
  "metadata": {
    "colab": {
      "name": "web_requests_and_apis.ipynb",
      "provenance": []
    },
    "kernelspec": {
      "name": "python3",
      "display_name": "Python 3"
    },
    "language_info": {
      "name": "python",
      "version": "3.x"
    }
  },
  "cells": [
    {
      "cell_type": "markdown",
      "metadata": {
        "id": "title"
      },
      "source": [
        "# Web Requests & APIs\n"
      ],
      "id": "title"
    },
    {
      "cell_type": "markdown",
      "source": [],
      "metadata": {
        "id": "UdDHFXkXarfz"
      },
      "id": "UdDHFXkXarfz"
    },
    {
      "cell_type": "code",
      "metadata": {
        "id": "imports"
      },
      "source": [
        "import requests"
      ],
      "execution_count": 9,
      "outputs": [],
      "id": "imports"
    },
    {
      "cell_type": "markdown",
      "metadata": {
        "id": "http-basics"
      },
      "source": [
        "## 1) HTTP Basics\n",
        "- **GET** = read data\n",
        "- **POST** = send data\n",
        "- **URL** can include **?query=params**\n",
        "- Responses often come back as **JSON** (looks like Python dict/list)"
      ],
      "id": "http-basics"
    },
    {
      "cell_type": "markdown",
      "metadata": {
        "id": "get-json"
      },
      "source": [
        "## 2) GET a JSON object\n",
        "We'll call a free test API and look at the JSON. Endpoint: `jsonplaceholder.typicode.com`"
      ],
      "id": "get-json"
    },
    {
      "cell_type": "code",
      "metadata": {
        "id": "basic-get",
        "outputId": "6a418ac5-8f09-44aa-ef1d-1f57e769412f",
        "colab": {
          "base_uri": "https://localhost:8080/"
        }
      },
      "source": [
        "url = \"https://jsonplaceholder.typicode.com/todos/1\"\n",
        "r = requests.get(url)\n",
        "todo = r.json()\n",
        "todo"
      ],
      "execution_count": 2,
      "outputs": [
        {
          "output_type": "execute_result",
          "data": {
            "text/plain": [
              "{'userId': 1, 'id': 1, 'title': 'delectus aut autem', 'completed': False}"
            ]
          },
          "metadata": {},
          "execution_count": 2
        }
      ],
      "id": "basic-get"
    },
    {
      "cell_type": "markdown",
      "metadata": {
        "id": "get-params"
      },
      "source": [
        "### GET with query parameters\n",
        "Use the `params` argument to filter results (the library builds the URL for you)."
      ],
      "id": "get-params"
    },
    {
      "cell_type": "code",
      "metadata": {
        "id": "params-code",
        "outputId": "669ac147-7f41-4747-b111-82f8c8344665",
        "colab": {
          "base_uri": "https://localhost:8080/"
        }
      },
      "source": [
        "url = \"https://jsonplaceholder.typicode.com/posts\"\n",
        "params = {\"userId\": 1}\n",
        "r = requests.get(url,params)\n",
        "posts = r.json()\n",
        "print(posts)"
      ],
      "execution_count": 19,
      "outputs": [
        {
          "output_type": "stream",
          "name": "stdout",
          "text": [
            "[{'userId': 1, 'id': 1, 'title': 'sunt aut facere repellat provident occaecati excepturi optio reprehenderit', 'body': 'quia et suscipit\\nsuscipit recusandae consequuntur expedita et cum\\nreprehenderit molestiae ut ut quas totam\\nnostrum rerum est autem sunt rem eveniet architecto'}, {'userId': 1, 'id': 2, 'title': 'qui est esse', 'body': 'est rerum tempore vitae\\nsequi sint nihil reprehenderit dolor beatae ea dolores neque\\nfugiat blanditiis voluptate porro vel nihil molestiae ut reiciendis\\nqui aperiam non debitis possimus qui neque nisi nulla'}, {'userId': 1, 'id': 3, 'title': 'ea molestias quasi exercitationem repellat qui ipsa sit aut', 'body': 'et iusto sed quo iure\\nvoluptatem occaecati omnis eligendi aut ad\\nvoluptatem doloribus vel accusantium quis pariatur\\nmolestiae porro eius odio et labore et velit aut'}, {'userId': 1, 'id': 4, 'title': 'eum et est occaecati', 'body': 'ullam et saepe reiciendis voluptatem adipisci\\nsit amet autem assumenda provident rerum culpa\\nquis hic commodi nesciunt rem tenetur doloremque ipsam iure\\nquis sunt voluptatem rerum illo velit'}, {'userId': 1, 'id': 5, 'title': 'nesciunt quas odio', 'body': 'repudiandae veniam quaerat sunt sed\\nalias aut fugiat sit autem sed est\\nvoluptatem omnis possimus esse voluptatibus quis\\nest aut tenetur dolor neque'}, {'userId': 1, 'id': 6, 'title': 'dolorem eum magni eos aperiam quia', 'body': 'ut aspernatur corporis harum nihil quis provident sequi\\nmollitia nobis aliquid molestiae\\nperspiciatis et ea nemo ab reprehenderit accusantium quas\\nvoluptate dolores velit et doloremque molestiae'}, {'userId': 1, 'id': 7, 'title': 'magnam facilis autem', 'body': 'dolore placeat quibusdam ea quo vitae\\nmagni quis enim qui quis quo nemo aut saepe\\nquidem repellat excepturi ut quia\\nsunt ut sequi eos ea sed quas'}, {'userId': 1, 'id': 8, 'title': 'dolorem dolore est ipsam', 'body': 'dignissimos aperiam dolorem qui eum\\nfacilis quibusdam animi sint suscipit qui sint possimus cum\\nquaerat magni maiores excepturi\\nipsam ut commodi dolor voluptatum modi aut vitae'}, {'userId': 1, 'id': 9, 'title': 'nesciunt iure omnis dolorem tempora et accusantium', 'body': 'consectetur animi nesciunt iure dolore\\nenim quia ad\\nveniam autem ut quam aut nobis\\net est aut quod aut provident voluptas autem voluptas'}, {'userId': 1, 'id': 10, 'title': 'optio molestias id quia eum', 'body': 'quo et expedita modi cum officia vel magni\\ndoloribus qui repudiandae\\nvero nisi sit\\nquos veniam quod sed accusamus veritatis error'}]\n"
          ]
        }
      ],
      "id": "params-code"
    }
  ]
}