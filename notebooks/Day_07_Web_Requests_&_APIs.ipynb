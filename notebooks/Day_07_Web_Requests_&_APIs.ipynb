{
  "nbformat": 4,
  "nbformat_minor": 5,
  "metadata": {
    "colab": {
      "name": "web_requests_and_apis.ipynb",
      "provenance": []
    },
    "kernelspec": {
      "name": "python3",
      "display_name": "Python 3"
    },
    "language_info": {
      "name": "python",
      "version": "3.x"
    }
  },
  "cells": [
    {
      "cell_type": "markdown",
      "metadata": {"id": "title"},
      "source": [
        "# Web Requests & APIs (Beginner • 30 minutes)\n",
        "\n",
        "Welcome! In this quick class you will:\n",
        "- Use **GET** to fetch JSON from real APIs\n",
        "- Add **query parameters**\n",
        "- Send a simple **POST** request\n",
        "- Loop through **paginated** data\n",
        "- Do a tiny **mini-project** using SWAPI (Star Wars API)\n",
        "\n",
        "We keep it **extra simple**: no error handling, just working examples."
      ]
    },
    {
      "cell_type": "markdown",
      "metadata": {"id": "setup"},
      "source": [
        "## 0) Setup\n",
        "We only need a few libraries."
      ]
    },
    {
      "cell_type": "code",
      "metadata": {"id": "imports"},
      "source": [
        "import requests\n",
        "import pandas as pd\n",
        "import time\n",
        "import matplotlib.pyplot as plt\n",
        "plt.rcParams['figure.figsize'] = (8,4)\n",
        "requests.__version__"
      ],
      "execution_count": null,
      "outputs": []
    },
    {
      "cell_type": "markdown",
      "metadata": {"id": "http-basics"},
      "source": [
        "## 1) HTTP Basics (very quick)\n",
        "- **GET** = read data\n",
        "- **POST** = send data\n",
        "- **URL** can include **?query=params**\n",
        "- Responses often come back as **JSON** (looks like Python dict/list)"
      ]
    },
    {
      "cell_type": "markdown",
      "metadata": {"id": "get-json"},
      "source": [
        "## 2) GET a JSON object\n",
        "We'll call a free test API and look at the JSON. Endpoint: `jsonplaceholder.typicode.com`"
      ]
    },
    {
      "cell_type": "code",
      "metadata": {"id": "basic-get"},
      "source": [
        "url = \"https://jsonplaceholder.typicode.com/todos/1\"\n",
        "r = requests.get(url)\n",
        "todo = r.json()\n",
        "todo"
      ],
      "execution_count": null,
      "outputs": []
    },
    {
      "cell_type": "markdown",
      "metadata": {"id": "get-params"},
      "source": [
        "### GET with query parameters\n",
        "Use the `params` argument to filter results (the library builds the URL for you)."
      ]
    },
    {
      "cell_type": "code",
      "metadata": {"id": "params-code"},
      "source": [
        "url = \"https://jsonplaceholder.typicode.com/posts\"\n",
        "params = {\"userId\": 1}\n",
        "r = requests.get(url, params=params)\n",
        "posts = r.json()\n",
        "len(posts), posts[:2]  # show how many and preview first two"
      ],
      "execution_count": null,
      "outputs": []
    },
    {
      "cell_type": "markdown",
      "metadata": {"id": "df"},
      "source": [
        "### Put JSON into a table (DataFrame)\n",
        "Pandas makes it easy to look at structured data."
      ]
    },
    {
      "cell_type": "code",
      "metadata": {"id": "df-code"},
      "source": [
        "df = pd.DataFrame(posts)\n",
        "df.head()"
      ],
      "execution_count": null,
      "outputs": []
    },
    {
      "cell_type": "markdown",
      "metadata": {"id": "post"},
      "source": [
        "## 3) POST a JSON payload\n",
        "We use `httpbin.org/post`, which **echoes** back what we send so we can see it."
      ]
    },
    {
      "cell_type": "code",
      "metadata": {"id": "post-code"},
      "source": [
        "url = \"https://httpbin.org/post\"\n",
        "payload = {\"name\": \"Student\", \"course\": \"Web Requests & APIs\"}\n",
        "r = requests.post(url, json=payload)\n",
        "r.json()[\"json\"]  # the server returns the same JSON we sent"
      ],
      "execution_count": null,
      "outputs": []
    },
    {
      "cell_type": "markdown",
      "metadata": {"id": "pagination"},
      "source": [
        "## 4) Pagination (multiple pages)\n",
        "Some APIs return results in **pages**. We'll use `reqres.in` which has a small users dataset."
      ]
    },
    {
      "cell_type": "code",
      "metadata": {"id": "pagination-code"},
      "source": [
        "all_users = []\n",
        "page = 1\n",
        "while True:\n",
        "    r = requests.get(\"https://reqres.in/api/users\", params={\"page\": page})\n",
        "    js = r.json()\n",
        "    all_users.extend(js[\"data\"])\n",
        "    if page >= js[\"total_pages\"]:\n",
        "        break\n",
        "    page += 1\n",
        "    time.sleep(0.2)  # tiny pause\n",
        "\n",
        "pd.DataFrame(all_users)"
      ],
      "execution_count": null,
      "outputs": []
    },
    {
      "cell_type": "markdown",
      "metadata": {"id": "mini"},
      "source": [
        "## 5) Mini-Project: SWAPI (Star Wars API)\n",
        "Goal: fetch **all people**, make a small table, and a simple count plot.\n",
        "\n",
        "Endpoint: `https://swapi.dev/api/people/`"
      ]
    },
    {
      "cell_type": "code",
      "metadata": {"id": "swapi-fetch"},
      "source": [
        "people = []\n",
        "url = \"https://swapi.dev/api/people/\"\n",
        "while url:\n",
        "    r = requests.get(url)\n",
        "    js = r.json()\n",
        "    people.extend(js[\"results\"])\n",
        "    url = js[\"next\"]\n",
        "    time.sleep(0.2)\n",
        "\n",
        "len(people), people[0][\"name\"] if people else None"
      ],
      "execution_count": null,
      "outputs": []
    },
    {
      "cell_type": "markdown",
      "metadata": {"id": "mini-table"},
      "source": [
        "### Make a small table with name, height, mass\n",
        "We’ll also convert height/mass to numbers where possible."
      ]
    },
    {
      "cell_type": "code",
      "metadata": {"id": "mini-table-code"},
      "source": [
        "rows = []\n",
        "for p in people:\n",
        "    h = pd.to_numeric(p.get(\"height\"), errors=\"coerce\")\n",
        "    m = pd.to_numeric(p.get(\"mass\").replace(\",\",\"\") if isinstance(p.get(\"mass\"), str) else p.get(\"mass\"), errors=\"coerce\")\n",
        "    rows.append({\"name\": p.get(\"name\"), \"height_cm\": h, \"mass_kg\": m})\n",
        "\n",
        "swdf = pd.DataFrame(rows)\n",
        "swdf.head(10)"
      ],
      "execution_count": null,
      "outputs": []
    },
    {
      "cell_type": "markdown",
      "metadata": {"id": "mini-plot"},
      "source": [
        "### Simple plot: Top 8 tallest characters (by recorded height)"
      ]
    },
    {
      "cell_type": "code",
      "metadata": {"id": "plot-code"},
      "source": [
        "tall = swdf.dropna(subset=[\"height_cm\"]).sort_values(\"height_cm\", ascending=False).head(8)\n",
        "plt.bar(tall[\"name\"], tall[\"height_cm\"])\n",
        "plt.title(\"Top 8 Tallest (SWAPI people)\")\n",
        "plt.xlabel(\"Character\")\n",
        "plt.ylabel(\"Height (cm)\")\n",
        "plt.xticks(rotation=45, ha=\"right\")\n",
        "plt.tight_layout()\n",
        "plt.show()\n",
        "tall[[\"name\",\"height_cm\"]]"
      ],
      "execution_count": null,
      "outputs": []
    },
    {
      "cell_type": "markdown",
      "metadata": {"id": "quick-ref"},
      "source": [
        "## Quick Reference\n",
        "- GET JSON: `r = requests.get(url); data = r.json()`\n",
        "- GET with params: `requests.get(url, params={\"q\":\"python\"})`\n",
        "- POST JSON: `requests.post(url, json={\"a\":1})`\n",
        "- Loop pages: increase `page` or follow `next` until it stops"
      ]
    },
    {
      "cell_type": "markdown",
      "metadata": {"id": "wrap"},
      "source": [
        "## Wrap-Up\n",
        "You just fetched real data from multiple APIs and visualized some of it. Next, try changing URLs, parameters, or fields to explore more!"
      ]
    }
  ]
}
