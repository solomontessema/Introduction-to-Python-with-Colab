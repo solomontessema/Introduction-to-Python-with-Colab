{
  "nbformat": 4,
  "nbformat_minor": 5,
  "metadata": {
    "colab": {
      "name": "web_requests_and_apis.ipynb",
      "provenance": []
    },
    "kernelspec": {
      "name": "python3",
      "display_name": "Python 3"
    },
    "language_info": {
      "name": "python",
      "version": "3.x"
    }
  },
  "cells": [
    {
      "cell_type": "markdown",
      "metadata": {
        "id": "title"
      },
      "source": [
        "# Web Requests & APIs (30-Minute Micro-Class)\n",
        "\n",
        "Welcome! In ~30 minutes you'll learn how to:\n",
        "\n",
        "- Send HTTP requests with `requests`\n",
        "- Work with query params, headers, and JSON payloads\n",
        "- Handle timeouts, errors, and simple retries\n",
        "- Page through results and respect basic rate limits\n",
        "- Do a mini-project: fetch data from a public API and analyze it\n",
        "\n",
        "### Agenda (Suggested pacing)\n",
        "1. **HTTP & requests refresher** (3 min)\n",
        "2. **GET, params, JSON** (7 min)\n",
        "3. **POST, headers, timeouts, errors** (8 min)\n",
        "4. **Pagination + simple retries** (6 min)\n",
        "5. **Mini-project (SWAPI)** (5–6 min)\n",
        "6. **Stretch exercises** (time-permitting)\n",
        "\n",
        "> All examples use free, public endpoints: `jsonplaceholder.typicode.com`, `httpbin.org`, `reqres.in`, and `swapi.dev`."
      ]
    },
    {
      "cell_type": "markdown",
      "metadata": {
        "id": "setup"
      },
      "source": [
        "## 0) Setup\n",
        "Colab already includes `requests`, `pandas`, and `matplotlib`. Let's import what we need."
      ]
    },
    {
      "cell_type": "code",
      "metadata": {
        "id": "imports"
      },
      "source": [
        "import requests, time, math, os\n",
        "from urllib3.util.retry import Retry\n",
        "from requests.adapters import HTTPAdapter\n",
        "import pandas as pd\n",
        "import matplotlib.pyplot as plt\n",
        "\n",
        "requests.__version__"
      ],
      "execution_count": null,
      "outputs": []
    },
    {
      "cell_type": "markdown",
      "metadata": {
        "id": "http"
      },
      "source": [
        "## 1) HTTP in 3 Minutes\n",
        "- **Methods**: `GET` (read), `POST` (create), `PUT/PATCH` (update), `DELETE` (remove)\n",
        "- **URLs** + optional **query parameters** (e.g. `?q=python&limit=10`)\n",
        "- **Headers**: metadata (e.g. `Authorization`, `User-Agent`, `Accept`)\n",
        "- **Body**: often JSON (send/receive)\n",
        "- **Status codes**: `2xx` success, `4xx` client error, `5xx` server error"
      ]
    },
    {
      "cell_type": "markdown",
      "metadata": {
        "id": "get-json"
      },
      "source": [
        "## 2) Basic GET and JSON\n",
        "We'll call a free placeholder API and parse JSON."
      ]
    },
    {
      "cell_type": "code",
      "metadata": {
        "id": "basic-get"
      },
      "source": [
        "url = \"https://jsonplaceholder.typicode.com/todos/1\"\n",
        "resp = requests.get(url)\n",
        "print(\"Status:\", resp.status_code)\n",
        "data = resp.json()\n",
        "data"
      ],
      "execution_count": null,
      "outputs": []
    },
    {
      "cell_type": "markdown",
      "metadata": { "id": "params" },
      "source": [
        "### Query Parameters\n",
        "Use `params={}` to safely build URLs."
      ]
    },
    {
      "cell_type": "code",
      "metadata": {
        "id": "get-params"
      },
      "source": [
        "url = \"https://jsonplaceholder.typicode.com/posts\"\n",
        "params = {\"userId\": 1}\n",
        "resp = requests.get(url, params=params)\n",
        "posts = resp.json()\n",
        "print(f\"Fetched {len(posts)} posts for userId=1\")\n",
        "posts[:2]  # peek at first two"
      ],
      "execution_count": null,
      "outputs": []
    },
    {
      "cell_type": "markdown",
      "metadata": { "id": "df" },
      "source": [
        "### Convert JSON to a DataFrame\n",
        "Pandas makes quick inspection and filtering easy."
      ]
    },
    {
      "cell_type": "code",
      "metadata": {
        "id": "df-code"
      },
      "source": [
        "df = pd.DataFrame(posts)\n",
        "df.head()"
      ],
      "execution_count": null,
      "outputs": []
    },
    {
      "cell_type": "markdown",
      "metadata": { "id": "post" },
      "source": [
        "## 3) POST, Headers, Timeouts, and Errors\n",
        "We'll use `httpbin.org` to echo back what we send."
      ]
    },
    {
      "cell_type": "code",
      "metadata": { "id": "post-json" },
      "source": [
        "url = \"https://httpbin.org/post\"\n",
        "payload = {\"name\": \"Solomon\", \"role\": \"AI Developer\"}\n",
        "headers = {\"User-Agent\": \"Colab-Demo/1.0\", \"Accept\": \"application/json\"}\n",
        "resp = requests.post(url, json=payload, headers=headers, timeout=10)\n",
        "print(\"Status:\", resp.status_code)\n",
        "resp.json()[\"json\"]  # server echoes our JSON payload"
      ],
      "execution_count": null,
      "outputs": []
    },
    {
      "cell_type": "markdown",
      "metadata": { "id": "errors" },
      "source": [
        "### Handling Errors & Timeouts\n",
        "Use `timeout` and `raise_for_status()` inside `try/except`."
      ]
    },
    {
      "cell_type": "code",
      "metadata": { "id": "try-except" },
      "source": [
        "def safe_get(url, **kwargs):\n",
        "    try:\n",
        "        r = requests.get(url, timeout=kwargs.pop(\"timeout\", 10), **kwargs)\n",
        "        r.raise_for_status()\n",
        "        return r\n",
        "    except requests.exceptions.Timeout:\n",
        "        print(\"Request timed out\")\n",
        "    except requests.exceptions.HTTPError as e:\n",
        "        print(\"HTTP error:\", e)\n",
        "    except requests.exceptions.RequestException as e:\n",
        "        print(\"Other error:\", e)\n",
        "\n",
        "bad = safe_get(\"https://httpbin.org/status/429\")  # 429 Too Many Requests\n",
        "good = safe_get(\"https://httpbin.org/get\")\n",
        "good.json()[\"url\"] if good else None"
      ],
      "execution_count": null,
      "outputs": []
    },
    {
      "cell_type": "markdown",
      "metadata": { "id": "retries" },
      "source": [
        "### Simple Retries (with Backoff)\n",
        "Transient errors (e.g., 429/5xx) can be retried with backoff."
      ]
    },
    {
      "cell_type": "code",
      "metadata": { "id": "retry-code" },
      "source": [
        "def session_with_retries(total=3, backoff=0.5, status_forcelist=(429, 500, 502, 503, 504)):\n",
        "    retry = Retry(total=total, backoff_factor=backoff, status_forcelist=status_forcelist, allowed_methods=[\"GET\",\"POST\"]) \n",
        "    s = requests.Session()\n",
        "    s.headers.update({\"User-Agent\": \"Colab-Demo/1.0\"})\n",
        "    adapter = HTTPAdapter(max_retries=retry)\n",
        "    s.mount(\"http://\", adapter)\n",
        "    s.mount(\"https://\", adapter)\n",
        "    return s\n",
        "\n",
        "s = session_with_retries()\n",
        "r = s.get(\"https://httpbin.org/status/503\")  # will retry\n",
        "print(\"Final status:\", r.status_code)"
      ],
      "execution_count": null,
      "outputs": []
    },
    {
      "cell_type": "markdown",
      "metadata": { "id": "pagination" },
      "source": [
        "## 4) Pagination Example\n",
        "The `reqres.in` API demonstrates paged responses."
      ]
    },
    {
      "cell_type": "code",
      "metadata": { "id": "pagination-code" },
      "source": [
        "def fetch_all_users_reqres():\n",
        "    base = \"https://reqres.in/api/users\"\n",
        "    page = 1\n",
        "    users = []\n",
        "    while True:\n",
        "        r = requests.get(base, params={\"page\": page}, timeout=10)\n",
        "        r.raise_for_status()\n",
        "        js = r.json()\n",
        "        users.extend(js.get(\"data\", []))\n",
        "        if page >= js.get(\"total_pages\", 1):\n",
        "            break\n",
        "        page += 1\n",
        "        time.sleep(0.25)  # be nice\n",
        "    return users\n",
        "\n",
        "users = fetch_all_users_reqres()\n",
        "pd.DataFrame(users)"
      ],
      "execution_count": null,
      "outputs": []
    },
    {
      "cell_type": "markdown",
      "metadata": { "id": "auth" },
      "source": [
        "## (Note) Authentication Patterns\n",
        "- **API key** in header: `Authorization: Bearer <TOKEN>` or custom header like `x-api-key`.\n",
        "- **Query param** (less secure): `?api_key=...`.\n",
        "- **OAuth2**: obtain access token, then pass as `Bearer` token.\n",
        "\n",
        "Below is a *pattern* showing how you might read an API key from an environment variable. (This cell won’t run a real key.)"
      ]
    },
    {
      "cell_type": "code",
      "metadata": { "id": "auth-code" },
      "source": [
        "API_KEY = os.getenv(\"MY_API_KEY\", \"<put_your_key_here>\")\n",
        "headers = {\"Authorization\": f\"Bearer {API_KEY}\"}\n",
        "# Example (disabled):\n",
        "# resp = requests.get(\"https://api.example.com/data\", headers=headers, timeout=10)\n",
        "# resp.json()"
      ],
      "execution_count": null,
      "outputs": []
    },
    {
      "cell_type": "markdown",
      "metadata": { "id": "mini" },
      "source": [
        "## 5) Mini-Project: Star Wars People (SWAPI)\n",
        "Goal: fetch **all people** from SWAPI, analyze species counts, and plot."
      ]
    },
    {
      "cell_type": "code",
      "metadata": { "id": "swapi-fetch" },
      "source": [
        "def fetch_all_swapi(resource=\"people\"):\n",
        "    url = f\"https://swapi.dev/api/{resource}/\"\n",
        "    results = []\n",
        "    while url:\n",
        "        r = requests.get(url, timeout=15)\n",
        "        r.raise_for_status()\n",
        "        js = r.json()\n",
        "        results.extend(js.get(\"results\", []))\n",
        "        url = js.get(\"next\")\n",
        "        time.sleep(0.2)\n",
        "    return results\n",
        "\n",
        "people = fetch_all_swapi(\"people\")\n",
        "len(people), people[0][\"name\"] if people else None"
      ],
      "execution_count": null,
      "outputs": []
    },
    {
      "cell_type": "code",
      "metadata": { "id": "swapi-analyze" },
      "source": [
        "# Build a species label for each person (fetch species name if available)\n",
        "from functools import lru_cache\n",
        "\n",
        "@lru_cache(maxsize=64)\n",
        "def species_name(url):\n",
        "    if not url:\n",
        "        return \"Unknown\"\n",
        "    r = requests.get(url, timeout=10)\n",
        "    r.raise_for_status()\n",
        "    return r.json().get(\"name\", \"Unknown\")\n",
        "\n",
        "rows = []\n",
        "for p in people:\n",
        "    sp_list = p.get(\"species\", [])\n",
        "    sp = species_name(tuple(sp_list)[0]) if sp_list else \"Human? (Unknown in API)\"\n",
        "    rows.append({\"name\": p.get(\"name\"), \"species\": sp})\n",
        "\n",
        "swdf = pd.DataFrame(rows)\n",
        "swdf.head()"
      ],
      "execution_count": null,
      "outputs": []
    },
    {
      "cell_type": "code",
      "metadata": { "id": "swapi-plot" },
      "source": [
        "counts = swdf[\"species\"].value_counts().sort_values(ascending=False)\n",
        "plt.figure(figsize=(8,4))\n",
        "counts.head(8).plot(kind=\"bar\")\n",
        "plt.title(\"Top Species (SWAPI People)\")\n",
        "plt.xlabel(\"Species\")\n",
        "plt.ylabel(\"Count\")\n",
        "plt.xticks(rotation=45, ha=\"right\")\n",
        "plt.tight_layout()\n",
        "plt.show()\n",
        "counts.head(10)"
      ],
      "execution_count": null,
      "outputs": []
    },
    {
      "cell_type": "markdown",
      "metadata": { "id": "exercises" },
      "source": [
        "## 6) Stretch Exercises (Try these!)\n",
        "1. **Error handling**: Wrap the SWAPI fetches in `try/except` with `raise_for_status()` and a fallback.\n",
        "2. **Backoff**: Add exponential backoff to the SWAPI pagination loop on non-200 responses.\n",
        "3. **Headers**: Add a custom `User-Agent` to your requests session.\n",
        "4. **Params**: Use query params to filter a different API (e.g., `jsonplaceholder` by `userId`).\n",
        "5. **Join data**: Combine two endpoints (e.g., SWAPI people + homeworld names) and plot homeworld counts."
      ]
    },
    {
      "cell_type": "markdown",
      "metadata": { "id": "cheatsheet" },
      "source": [
        "## Quick Reference\n",
        "- GET with params: `requests.get(url, params={\"q\": \"python\"})`\n",
        "- POST JSON: `requests.post(url, json={\"a\":1})`\n",
        "- Headers: `requests.get(url, headers={\"Authorization\": \"Bearer ...\"})`\n",
        "- Timeout: `requests.get(url, timeout=10)`\n",
        "- Errors: `resp.raise_for_status()` inside `try/except`\n",
        "- Retries: `requests.Session()` + `HTTPAdapter(max_retries=Retry(...))`\n",
        "- Pagination: loop until `next` is `None` or page > total_pages"
      ]
    },
    {
      "cell_type": "markdown",
      "metadata": { "id": "wrap" },
      "source": [
        "## Wrap-Up\n",
        "You learned how to call REST APIs with `requests`, handle common concerns (params, headers, JSON, timeouts, errors, retries), and page through results. Keep these patterns handy and plug in your target APIs.\n",
        "\n",
        "**Next steps:**\n",
        "- Add caching (e.g., `requests-cache`) for faster iteration\n",
        "- Explore auth with a real API key stored in environment variables\n",
        "- Build a small helper module wrapping these patterns for your projects"
      ]
    }
  ]
}
