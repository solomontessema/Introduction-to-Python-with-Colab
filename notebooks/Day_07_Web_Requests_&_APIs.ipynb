{
  "nbformat": 4,
  "nbformat_minor": 0,
  "metadata": {
    "colab": {
      "provenance": [],
      "include_colab_link": true
    },
    "kernelspec": {
      "name": "python3",
      "display_name": "Python 3"
    },
    "language_info": {
      "name": "python"
    }
  },
  "cells": [
    {
      "cell_type": "markdown",
      "metadata": {
        "id": "view-in-github",
        "colab_type": "text"
      },
      "source": [
        "<a href=\"https://colab.research.google.com/github/solomontessema/Introduction-to-Python-with-Colab/blob/master/notebooks/Day_07_Web_Requests_%26_APIs.ipynb\" target=\"_parent\"><img src=\"https://colab.research.google.com/assets/colab-badge.svg\" alt=\"Open In Colab\"/></a>"
      ]
    },
    {
      "cell_type": "markdown",
      "source": [
        "<table>\n",
        "  <tr>\n",
        "    <td><img src=\"https://ionnova.com/img/ionnova_logo_name_2.png\" width=\"120px\"></td>\n",
        "    <td><h1>Day 07: Web Requests & APIs</h1></td>\n",
        "  </tr>\n",
        "</table>"
      ],
      "metadata": {
        "id": "7gLSS7q_nad4"
      }
    },
    {
      "cell_type": "markdown",
      "source": [
        "# Concepts Covered:\n",
        "\n",
        "* Making HTTP requests (GET, POST) using the requests library\n",
        "* Sending headers and payloads\n",
        "* Parsing JSON responses\n"
      ],
      "metadata": {
        "id": "QEcpcQFXl9fo"
      }
    },
    {
      "cell_type": "code",
      "source": [
        "import requests\n",
        "\n",
        "# URL of Google Apps Script\n",
        "url = \"https://script.google.com/macros/s/AKfycbyfC2qINOcWTLxZCEMpACU4f0X77Ty0P8nt8x6ypClGzzWztEmG_QhMGtmCwzxxoJ0NAQ/exec\"\n",
        "\n",
        "\n",
        "# Collect input from user\n",
        "name = input(\"Enter Name: \")\n",
        "score = input(\"Enter Score: \")\n",
        "\n",
        "# Prepare data payload\n",
        "data = {\n",
        "    \"name\": name,\n",
        "    \"score\": score\n",
        "}\n",
        "\n",
        "# Define headers\n",
        "headers = {\n",
        "    \"Content-Type\": \"application/json\"\n",
        "}\n",
        "\n",
        "# Send POST request with headers\n",
        "response = requests.post(url, json=data, headers=headers)\n",
        "\n",
        "# Show response\n",
        "print(\"Response from Google Sheet:\", response.text)\n"
      ],
      "metadata": {
        "id": "CoEmkmvNmLt_"
      },
      "execution_count": null,
      "outputs": []
    },
    {
      "cell_type": "code",
      "source": [
        "import requests\n",
        "\n",
        "url = \"https://script.google.com/macros/s/AKfycbyfC2qINOcWTLxZCEMpACU4f0X77Ty0P8nt8x6ypClGzzWztEmG_QhMGtmCwzxxoJ0NAQ/exec\"\n",
        "headers = { \"Accept\": \"application/json\" }\n",
        "\n",
        "response = requests.get(url, headers=headers)\n",
        "\n",
        "if response.status_code == 200:\n",
        "    try:\n",
        "        data = response.json()\n",
        "        print(\"Data from Google Sheet:\")\n",
        "        for row in data:\n",
        "            print(f\"Name: {row['name']}, Score: {row['score']}\")\n",
        "    except ValueError:\n",
        "        print(\"Response is not valid JSON:\", response.text)\n",
        "else:\n",
        "    print(\"Failed to fetch data. Status code:\", response.status_code)\n"
      ],
      "metadata": {
        "id": "XUsveo7zC1Rm"
      },
      "execution_count": null,
      "outputs": []
    },
    {
      "cell_type": "code",
      "source": [
        "pip install google-api-python-client google-auth-httplib2 google-auth-oauthlib"
      ],
      "metadata": {
        "id": "IuB6JtMnNauf"
      },
      "execution_count": null,
      "outputs": []
    },
    {
      "cell_type": "code",
      "source": [
        "import requests\n",
        "\n",
        "# URL of Google Apps Script\n",
        "url = \"https://script.google.com/macros/s/AKfycbyUHtIWuv80QonqxpVyBZBxQAiV8tgMosB7Q3PJH39UStX5DYFEiEWAcuWpWvJXMgBrtg/exec\"\n",
        "\n",
        "\n",
        "# Collect input from user\n",
        "name = input(\"Enter Name: \")\n",
        "score = input(\"Enter Score: \")\n",
        "\n",
        "# Prepare data payload\n",
        "data = {\n",
        "    \"name\": name,\n",
        "    \"score\": score\n",
        "}\n",
        "\n",
        "# Define headers\n",
        "headers = {\n",
        "    \"Content-Type\": \"application/json\"\n",
        "}\n",
        "\n",
        "# Send POST request with headers\n",
        "response = requests.post(url, json=data, headers=headers)\n",
        "\n",
        "# Show response\n",
        "print(\"Response from Google Sheet:\", response.text)"
      ],
      "metadata": {
        "id": "tpgBiXeFC0KS"
      },
      "execution_count": null,
      "outputs": []
    },
    {
      "cell_type": "code",
      "source": [
        "import requests\n",
        "\n",
        "url = \"https://script.google.com/macros/s/AKfycbyUHtIWuv80QonqxpVyBZBxQAiV8tgMosB7Q3PJH39UStX5DYFEiEWAcuWpWvJXMgBrtg/exec\"\n",
        "headers = { \"Accept\": \"application/json\" }\n",
        "\n",
        "response = requests.get(url, headers=headers)\n",
        "\n",
        "if response.status_code == 200:\n",
        "    try:\n",
        "        data = response.json()\n",
        "        print(\"Data from Google Sheet:\")\n",
        "        for row in data:\n",
        "            print(f\"Name: {row['name']}, Score: {row['score']}\")\n",
        "    except ValueError:\n",
        "        print(\"Response is not valid JSON:\", response.text)\n",
        "else:\n",
        "    print(\"Failed to fetch data. Status code:\", response.status_code)"
      ],
      "metadata": {
        "id": "vwmlcuXcHQif"
      },
      "execution_count": null,
      "outputs": []
    }
  ]
}