{
  "nbformat": 4,
  "nbformat_minor": 0,
  "metadata": {
    "colab": {
      "provenance": [],
      "include_colab_link": true
    },
    "kernelspec": {
      "name": "python3",
      "display_name": "Python 3"
    },
    "language_info": {
      "name": "python"
    }
  },
  "cells": [
    {
      "cell_type": "markdown",
      "metadata": {
        "id": "view-in-github",
        "colab_type": "text"
      },
      "source": [
        "<a href=\"https://colab.research.google.com/github/solomontessema/Introduction-to-Python-with-Colab/blob/master/notebooks/Day_09_Data_Visualization_with_Matplotlib.ipynb\" target=\"_parent\"><img src=\"https://colab.research.google.com/assets/colab-badge.svg\" alt=\"Open In Colab\"/></a>"
      ]
    },
    {
      "cell_type": "markdown",
      "source": [
        "<table>\n",
        "  <tr>\n",
        "    <td><img src=\"https://ionnova.com/img/ionnova_logo_name_2.png\" width=\"120px\"></td>\n",
        "    <td><h1>Day 09: Data Visualization with Matplotlib</h1></td>\n",
        "  </tr>\n",
        "</table>"
      ],
      "metadata": {
        "id": "7gLSS7q_nad4"
      }
    },
    {
      "cell_type": "markdown",
      "source": [
        "# Concepts Covered:\n",
        "\n",
        "*   Introduction to matplotlib and basic plotting\n",
        "*   Line plots, bar charts, scatter plots, histograms\n",
        "*   Customizing plots: labels, titles, legends, colors\n",
        "*   Plotting from pandas DataFrames\n",
        "*   Saving figures and embedding in Colab\n",
        "\n",
        "\n",
        "\n",
        "\n"
      ],
      "metadata": {
        "id": "QEcpcQFXl9fo"
      }
    },
    {
      "cell_type": "code",
      "source": [
        "import matplotlib.pyplot as plt\n",
        "import pandas as pd\n",
        "import numpy as np\n"
      ],
      "metadata": {
        "id": "CoEmkmvNmLt_"
      },
      "execution_count": null,
      "outputs": []
    },
    {
      "cell_type": "code",
      "source": [
        "# Create sample data\n",
        "x = np.linspace(0, 10, 100)\n",
        "y = np.sin(x)\n",
        "\n",
        "# Line plot\n",
        "plt.plot(x, y)\n",
        "plt.title(\"Line Plot of sin(x)\")\n",
        "plt.xlabel(\"x\")\n",
        "plt.ylabel(\"sin(x)\")\n",
        "plt.grid(True)\n",
        "plt.show()\n"
      ],
      "metadata": {
        "id": "XUsveo7zC1Rm"
      },
      "execution_count": null,
      "outputs": []
    },
    {
      "cell_type": "code",
      "source": [
        "# Bar chart data\n",
        "categories = ['A', 'B', 'C', 'D']\n",
        "values = [10, 15, 7, 12]\n",
        "\n",
        "plt.bar(categories, values, color='skyblue')\n",
        "plt.title(\"Bar Chart Example\")\n",
        "plt.xlabel(\"Category\")\n",
        "plt.ylabel(\"Value\")\n",
        "plt.show()\n"
      ],
      "metadata": {
        "id": "IuB6JtMnNauf"
      },
      "execution_count": null,
      "outputs": []
    },
    {
      "cell_type": "code",
      "source": [
        "# Scatter plot data\n",
        "x = np.random.rand(50)\n",
        "y = np.random.rand(50)\n",
        "\n",
        "plt.scatter(x, y, color='green')\n",
        "plt.title(\"Scatter Plot\")\n",
        "plt.xlabel(\"X\")\n",
        "plt.ylabel(\"Y\")\n",
        "plt.show()\n"
      ],
      "metadata": {
        "id": "tpgBiXeFC0KS"
      },
      "execution_count": null,
      "outputs": []
    },
    {
      "cell_type": "code",
      "source": [
        "# Histogram data\n",
        "data = np.random.randn(1000)\n",
        "\n",
        "plt.hist(data, bins=30, color='purple', edgecolor='black')\n",
        "plt.title(\"Histogram of Random Data\")\n",
        "plt.xlabel(\"Value\")\n",
        "plt.ylabel(\"Frequency\")\n",
        "plt.show()\n",
        "\n"
      ],
      "metadata": {
        "id": "vwmlcuXcHQif"
      },
      "execution_count": null,
      "outputs": []
    },
    {
      "cell_type": "code",
      "source": [
        "# Create a sample DataFrame\n",
        "df = pd.DataFrame({\n",
        "    'Month': ['Jan', 'Feb', 'Mar', 'Apr', 'May'],\n",
        "    'Sales': [250, 300, 280, 320, 310]\n",
        "})\n",
        "\n",
        "# Line plot from DataFrame\n",
        "df.plot(x='Month', y='Sales', kind='line', marker='o', title='Monthly Sales')\n",
        "plt.ylabel(\"Sales\")\n",
        "plt.grid(True)\n",
        "plt.show()\n"
      ],
      "metadata": {
        "id": "Gi4Fk_Z6o_RV"
      },
      "execution_count": null,
      "outputs": []
    },
    {
      "cell_type": "code",
      "source": [
        "# Custom plot with labels, title, legend, and color\n",
        "x = np.arange(5)\n",
        "y1 = x**2\n",
        "y2 = x**3\n",
        "\n",
        "plt.plot(x, y1, label='x squared', color='red', linestyle='--')\n",
        "plt.plot(x, y2, label='x cubed', color='blue', linestyle='-.')\n",
        "\n",
        "plt.title(\"Custom Plot Example\")\n",
        "plt.xlabel(\"x\")\n",
        "plt.ylabel(\"y\")\n",
        "plt.legend()\n",
        "plt.show()\n"
      ],
      "metadata": {
        "id": "ePenCfmgpI5J"
      },
      "execution_count": null,
      "outputs": []
    },
    {
      "cell_type": "code",
      "source": [
        "# Save the previous figure to a file\n",
        "plt.plot(x, y1)\n",
        "plt.title(\"Saving Figure Example\")\n",
        "plt.savefig(\"saved_plot.png\")  # Saves to Colab's file system\n",
        "plt.show()\n"
      ],
      "metadata": {
        "id": "R-mRfkPT6CWS"
      },
      "execution_count": null,
      "outputs": []
    },
    {
      "cell_type": "code",
      "source": [
        "# Display saved image in Colab\n",
        "from IPython.display import Image\n",
        "Image(\"saved_plot.png\")\n"
      ],
      "metadata": {
        "colab": {
          "base_uri": "https://localhost:8080/",
          "height": 497
        },
        "id": "gdaGp2yO6Dst",
        "outputId": "b776a87a-0f8f-4ab8-f199-b91ae278ba2e"
      },
      "execution_count": 11,
      "outputs": [
        {
          "output_type": "execute_result",
          "data": {
            "image/png": "[encoded data removed]",
            "text/plain": [
              "<IPython.core.display.Image object>"
            ]
          },
          "metadata": {},
          "execution_count": 11
        }
      ]
    }
  ]
}