{
  "nbformat": 4,
  "nbformat_minor": 0,
  "metadata": {
    "colab": {
      "provenance": [],
      "include_colab_link": true
    },
    "kernelspec": {
      "name": "python3",
      "display_name": "Python 3"
    },
    "language_info": {
      "name": "python"
    }
  },
  "cells": [
    {
      "cell_type": "markdown",
      "metadata": {
        "id": "view-in-github",
        "colab_type": "text"
      },
      "source": [
        "<a href=\"https://colab.research.google.com/github/solomontessema/Introduction-to-Python-with-Colab/blob/master/notebooks/Day_04_File_I_O_%26_JSON.ipynb\" target=\"_parent\"><img src=\"https://colab.research.google.com/assets/colab-badge.svg\" alt=\"Open In Colab\"/></a>"
      ]
    },
    {
      "cell_type": "markdown",
      "source": [
        "<table>\n",
        "  <tr>\n",
        "    <td><img src=\"https://ionnova.com/img/ionnova_logo_name_2.png\" width=\"120px\"></td>\n",
        "    <td><h1>Day 04: File I/O & JSON</h1></td>\n",
        "  </tr>\n",
        "</table>\n"
      ],
      "metadata": {
        "id": "6YV40OZ3KEHo"
      }
    },
    {
      "cell_type": "markdown",
      "source": [
        "# Input and Output\n",
        "## Opening files for read, append, and write\n",
        "### Mode\tMeaning\n",
        "**\"r\"**\tRead only (error if file doesn’t exist)\n",
        "\n",
        "**\"w\"**\tWrite (overwrites, creates if missing)\n",
        "\n",
        "**\"a\"**\tAppend (creates if missing)\n",
        "\n",
        "**\"r+\"**\tRead & Write (file must exist, no truncation)\n",
        "\n",
        "**\"w+\"**\tRead & Write (overwrites existing content, creates if missing)\n",
        "\n",
        "**\"a+\"**\tRead & Append (keeps existing content, creates if missing)"
      ],
      "metadata": {
        "id": "YdUWIXo4lXA4"
      }
    },
    {
      "cell_type": "markdown",
      "source": [
        "Reading a text file."
      ],
      "metadata": {
        "id": "QridNnvP1Cx4"
      }
    },
    {
      "cell_type": "code",
      "execution_count": null,
      "metadata": {
        "id": "pTnxaaT0XZyn"
      },
      "outputs": [],
      "source": [
        "with open(\"Mercury.txt\", \"r\") as f:\n",
        "    content = f.read()\n",
        "\n",
        "print(content)"
      ]
    },
    {
      "cell_type": "markdown",
      "source": [
        "Reading a csv file"
      ],
      "metadata": {
        "id": "jpyaBNUd8SU_"
      }
    },
    {
      "cell_type": "code",
      "source": [
        "import csv\n",
        "\n",
        "with open(\"customer_sales.csv\", \"r\") as file:\n",
        "    r = csv.reader(file)\n",
        "    for row in r:\n",
        "        print(row)"
      ],
      "metadata": {
        "id": "UFs7Q9RldNPT"
      },
      "execution_count": null,
      "outputs": []
    },
    {
      "cell_type": "markdown",
      "source": [
        "Reading a JSON file."
      ],
      "metadata": {
        "id": "Hib7UGll8VLV"
      }
    },
    {
      "cell_type": "code",
      "source": [
        "import json\n",
        "\n",
        "with open(\"customer.json\", \"r\") as file:\n",
        "    data = json.load(file)\n",
        "\n",
        "print(data)"
      ],
      "metadata": {
        "id": "9XO9yzOleL6k"
      },
      "execution_count": null,
      "outputs": []
    },
    {
      "cell_type": "markdown",
      "source": [
        "Writing to a text file."
      ],
      "metadata": {
        "id": "s427SnfK8dN1"
      }
    },
    {
      "cell_type": "code",
      "source": [
        "# Writing to a text file\n",
        "with open(\"example.txt\", \"w\") as f:\n",
        "    f.write(\"Hello, Python learners!\\n\")\n",
        "    f.write(\"This is a new line.\\n\")\n",
        "\n",
        "# Reading from a text file\n",
        "with open(\"example.txt\", \"r\") as f:\n",
        "    content = f.read()\n",
        "\n",
        "print(\"File content:\\n\", content)"
      ],
      "metadata": {
        "id": "h7oWTsiOkS_o"
      },
      "execution_count": null,
      "outputs": []
    },
    {
      "cell_type": "markdown",
      "source": [
        "Writing to a csv file."
      ],
      "metadata": {
        "id": "3PFmFP288mFl"
      }
    },
    {
      "cell_type": "code",
      "source": [
        "import csv\n",
        "\n",
        "# Writing a CSV file\n",
        "with open(\"students.csv\", \"w\", newline=\"\") as f:\n",
        "    writer = csv.writer(f)\n",
        "    writer.writerow([\"Name\", \"Age\"])\n",
        "    writer.writerow([\"Alice\", 20])\n",
        "    writer.writerow([\"Bob\", 22])\n",
        "\n",
        "# Reading the CSV file\n",
        "with open(\"students.csv\", \"r\") as f:\n",
        "    reader = csv.reader(f)\n",
        "    for row in reader:\n",
        "        print(row)\n"
      ],
      "metadata": {
        "id": "91r5juFtlIc9"
      },
      "execution_count": null,
      "outputs": []
    },
    {
      "cell_type": "markdown",
      "source": [
        "Optional: Write to a JSON file."
      ],
      "metadata": {
        "id": "xYGjJIwj7-rV"
      }
    },
    {
      "cell_type": "code",
      "source": [
        "# Step 1: Initialize the JSON file with an empty list (do this once)\n",
        "with open(\"students.json\", \"w\") as f:\n",
        "    json.dump([], f)\n",
        "\n",
        "# Step 2: Load the list from JSON\n",
        "with open(\"students.json\", \"r\") as f:\n",
        "    students = json.load(f)   # students is a list\n",
        "\n",
        "# Step 3: Append a new dictionary (student record)\n",
        "students.append({\"name\": \"Bob\", \"age\": 22})\n",
        "\n",
        "# Step 4: Save updated list back into JSON\n",
        "with open(\"students.json\", \"w\") as f:\n",
        "    json.dump(students, f, indent=4)\n",
        "\n",
        "# Step 5: Check result\n",
        "with open(\"students.json\", \"r\") as f:\n",
        "    print(json.load(f))"
      ],
      "metadata": {
        "id": "9vRPnsyQm8QQ"
      },
      "execution_count": null,
      "outputs": []
    },
    {
      "cell_type": "markdown",
      "source": [
        "## 🧪 Exercise"
      ],
      "metadata": {
        "id": "u1151YNChVmW"
      }
    },
    {
      "cell_type": "code",
      "source": [
        "# Reading a text file\n",
        "with open(\"example.txt\", \"___\") as f:  # Hint: Use mode that reads content\n",
        "    content = f.read()\n",
        "print(content)\n",
        "\n",
        "# Writing to a CSV file\n",
        "import csv\n",
        "with open(\"students.csv\", \"___\", newline=\"\") as f:  # Hint: Use mode that creates or overwrites\n",
        "    writer = csv.writer(f)\n",
        "    writer.writerow([\"Name\", \"Age\"])\n",
        "    writer.writerow([\"Alice\", 20])\n",
        "\n",
        "# Loading JSON data\n",
        "import json\n",
        "with open(\"data.json\", \"___\") as f:  # Hint: Use mode that reads JSON\n",
        "    data = json.load(f)\n",
        "print(data)\n",
        "\n",
        "\n",
        "# Reading each row from a CSV file\n",
        "with open(\"students.csv\", \"r\") as f:\n",
        "    reader = csv.reader(f)\n",
        "    for ___ in reader:  # Hint: Use a variable to represent each row\n",
        "        print(row)\n"
      ],
      "metadata": {
        "id": "70pPzME2-XJF"
      },
      "execution_count": null,
      "outputs": []
    },
    {
      "cell_type": "markdown",
      "source": [
        "## 🧪 Quiz Time: Test Your Python Knowledge!\n",
        "\n",
        "Ready to challenge yourself? Run the cell below to launch a short quiz based on what you've learned so far.\n",
        "\n",
        "Good luck!\n"
      ],
      "metadata": {
        "id": "FzCVX9w03TJn"
      }
    },
    {
      "cell_type": "code",
      "source": [
        "import requests, json\n",
        "questions = json.loads(requests.get(\"https://raw.githubusercontent.com/solomontessema/Introduction-to-Python-with-Colab/master/quizzes/quiz_04.json\").text)\n",
        "exec(requests.get(\"https://raw.githubusercontent.com/solomontessema/Introduction-to-Python-with-Colab/master/quizzes/quiz_runner.py\").text)\n",
        "run_quiz(questions)\n"
      ],
      "metadata": {
        "id": "tUUqPAu_-Dm1"
      },
      "execution_count": null,
      "outputs": []
    }
  ]
}