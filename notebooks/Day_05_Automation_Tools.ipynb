{
  "nbformat": 4,
  "nbformat_minor": 0,
  "metadata": {
    "colab": {
      "provenance": [],
      "authorship_tag": "ABX9TyMIrNTUxgq9xyVkD7D0Zv7f",
      "include_colab_link": true
    },
    "kernelspec": {
      "name": "python3",
      "display_name": "Python 3"
    },
    "language_info": {
      "name": "python"
    }
  },
  "cells": [
    {
      "cell_type": "markdown",
      "metadata": {
        "id": "view-in-github",
        "colab_type": "text"
      },
      "source": [
        "<a href=\"https://colab.research.google.com/github/solomontessema/Introduction-to-Python-with-Colab/blob/master/notebooks/Day_05_Automation_Tools.ipynb\" target=\"_parent\"><img src=\"https://colab.research.google.com/assets/colab-badge.svg\" alt=\"Open In Colab\"/></a>"
      ]
    },
    {
      "cell_type": "markdown",
      "source": [
        "<table>\n",
        "  <tr>\n",
        "    <td><img src=\"https://ionnova.com/img/ionnova_logo_name_2.png\" width=\"120px\"></td>\n",
        "    <td><h1>Day 05: Automation Tools</h1></td>\n",
        "  </tr>\n",
        "</table>"
      ],
      "metadata": {
        "id": "IfAJLE9iUK1f"
      }
    },
    {
      "cell_type": "markdown",
      "source": [
        "## Concepts Covered\n",
        "\n",
        "* os: Working with files and directories\n",
        "\n",
        "* datetime: Working with dates and times\n",
        "\n",
        "* glob: Pattern matching for file search\n",
        "\n",
        "* shutil: High-level file operations\n",
        "\n",
        "* Practical automation: Rename files, create folders, and clean up directories"
      ],
      "metadata": {
        "id": "hJLpZoLN393c"
      }
    },
    {
      "cell_type": "code",
      "execution_count": null,
      "metadata": {
        "id": "m0aMKAR42W9P"
      },
      "outputs": [],
      "source": [
        "# Importing Automation Modules\n",
        "import os\n",
        "import datetime\n",
        "import glob\n",
        "import shutil"
      ]
    },
    {
      "cell_type": "code",
      "source": [
        "# Current working directory\n",
        "print(\"Current directory:\", os.getcwd())\n",
        "\n",
        "# Create a new folder\n",
        "os.makedirs(\"demo_folder\", exist_ok=True) # Note: \"exist_ok = True\" means \"if the folder already exists, keep it, don't raise an error\"\n",
        "\n",
        "# List files in current directory\n",
        "print(\"Files in current directory:\", os.listdir())"
      ],
      "metadata": {
        "id": "RVR1QSmf4dpd"
      },
      "execution_count": null,
      "outputs": []
    },
    {
      "cell_type": "code",
      "source": [
        "# Get current date and time\n",
        "now = datetime.datetime.now()\n",
        "print(\"Now:\", now)\n",
        "\n",
        "# Format date\n",
        "print(\"Formatted:\", now.strftime(\"%Y-%m-%d %H:%M:%S\"))\n"
      ],
      "metadata": {
        "id": "IFMqaeQW6Mlm"
      },
      "execution_count": null,
      "outputs": []
    },
    {
      "cell_type": "code",
      "source": [
        "# Create dummy files\n",
        "for i in range(3):\n",
        "    with open(f\"demo_folder/file_{i}.txt\", \"w\") as file:\n",
        "        file.write(\"Hello \" + str(i))\n",
        "\n",
        "# Find all .txt files\n",
        "txt_files = glob.glob(\"demo_folder/*.txt\")\n",
        "print(\"Text files found:\", txt_files)"
      ],
      "metadata": {
        "id": "YoUyEgGj6Sa0"
      },
      "execution_count": null,
      "outputs": []
    },
    {
      "cell_type": "code",
      "source": [
        "# Copy a file\n",
        "shutil.copy(\"demo_folder/file_0.txt\", \"demo_folder/file_copy.txt\")\n",
        "\n",
        "# Move a file\n",
        "shutil.move(\"demo_folder/file_1.txt\", \"demo_folder2/moved_file.txt\") # Note: create demo_folder2 before running this code.\n",
        "\n",
        "# Remove a file\n",
        "os.remove(\"demo_folder/file_2.txt\")\n",
        "\n",
        "print(\"Updated files:\", os.listdir(\"demo_folder\"))"
      ],
      "metadata": {
        "id": "GR40Tzz66yVi"
      },
      "execution_count": null,
      "outputs": []
    },
    {
      "cell_type": "code",
      "source": [
        "# Automatically rename all files in a folder with date prefix.\n",
        "\n",
        "for file in glob.glob(\"demo_folder/*.txt\"):\n",
        "    filename = os.path.basename(file)\n",
        "    new_name = datetime.datetime.now().strftime(\"%Y%m%d\") + \"_\" + filename\n",
        "    new_path = os.path.join(\"demo_folder\", new_name)\n",
        "    os.rename(file, new_path)\n",
        "\n",
        "print(\"Renamed files:\", os.listdir(\"demo_folder\"))"
      ],
      "metadata": {
        "id": "nBIhb5AK7wUU"
      },
      "execution_count": null,
      "outputs": []
    }
  ]
}