{
  "nbformat": 4,
  "nbformat_minor": 0,
  "metadata": {
    "colab": {
      "provenance": [],
      "authorship_tag": "ABX9TyPkzmxD/z/3cBC8qnaSkrQT",
      "include_colab_link": true
    },
    "kernelspec": {
      "name": "python3",
      "display_name": "Python 3"
    },
    "language_info": {
      "name": "python"
    }
  },
  "cells": [
    {
      "cell_type": "markdown",
      "metadata": {
        "id": "view-in-github",
        "colab_type": "text"
      },
      "source": [
        "<a href=\"https://colab.research.google.com/github/solomontessema/Introduction-to-Python-with-Colab/blob/master/notebooks/Day_10_Introduction_to_Machine_Learning.ipynb\" target=\"_parent\"><img src=\"https://colab.research.google.com/assets/colab-badge.svg\" alt=\"Open In Colab\"/></a>"
      ]
    },
    {
      "cell_type": "markdown",
      "source": [
        "table>\n",
        "  <tr>\n",
        "    <td><img src=\"https://ionnova.com/img/ionnova_logo_name_2.png\" width=\"120px\"></td>\n",
        "    <td><h1>Day 10: Introduction to Machine Learning</h1></td>\n",
        "  </tr>\n",
        "</table>"
      ],
      "metadata": {
        "id": "CR72YkQPpX9O"
      }
    },
    {
      "cell_type": "code",
      "source": [
        "import pandas as pd\n",
        "import numpy as np\n",
        "from sklearn.linear_model import LinearRegression\n",
        "from sklearn.model_selection import train_test_split\n",
        "from sklearn.metrics import mean_squared_error, r2_score\n",
        "\n",
        "# Load dataset\n",
        "df = pd.read_csv('/content/house_prices.csv')\n",
        "print(df[['sqft_living', 'price']])\n"
      ],
      "metadata": {
        "id": "LHJxFSmd5ofp"
      },
      "execution_count": null,
      "outputs": []
    },
    {
      "cell_type": "code",
      "source": [
        "# Scatter plot: sqft_living vs price\n",
        "plt.figure(figsize=(8, 6))\n",
        "plt.scatter(df['sqft_living'], df['price'], alpha=0.5, color='teal')\n",
        "plt.xlabel('Living Area (sqft)')\n",
        "plt.ylabel('House Price ($)')\n",
        "plt.title('House Price vs Living Area')\n",
        "plt.grid(True)\n",
        "plt.show()\n"
      ],
      "metadata": {
        "id": "O5enwyfTdHDd"
      },
      "execution_count": null,
      "outputs": []
    },
    {
      "cell_type": "code",
      "source": [
        "# Use only one feature: sqft_living\n",
        "X = df[['sqft_living']]\n",
        "y = df['price']\n",
        "\n",
        "# Split data\n",
        "X_train, X_test, y_train, y_test = train_test_split(X, y, test_size=0.2, random_state=42)\n",
        "\n",
        "# Train model\n",
        "model = LinearRegression()\n",
        "model.fit(X_train, y_train)\n",
        "\n",
        "# Evaluate\n",
        "y_pred = model.predict(X_test)\n",
        "print(\"MRSE:\", mean_squared_error(y_test, y_pred))\n",
        "print(\"R² Score:\", r2_score(y_test, y_pred))"
      ],
      "metadata": {
        "id": "5MHrv210bcWv"
      },
      "execution_count": null,
      "outputs": []
    },
    {
      "cell_type": "code",
      "source": [
        "# Ask user for input\n",
        "sqft = float(input(\"Enter square footage of living space: \"))\n",
        "\n",
        "# Create a DataFrame with the input\n",
        "user_df = pd.DataFrame([[sqft]], columns=['sqft_living'])\n",
        "\n",
        "# Predict using the trained model\n",
        "predicted_price = model.predict(user_df)[0]\n",
        "\n",
        "# Show result\n",
        "print(f\"\\nPredicted House Price: ${predicted_price:,.2f}\")\n"
      ],
      "metadata": {
        "id": "lcGwQR1Rci19"
      },
      "execution_count": null,
      "outputs": []
    },
    {
      "cell_type": "code",
      "source": [
        "import pandas as pd\n",
        "from sklearn.model_selection import train_test_split\n",
        "from sklearn.linear_model import LinearRegression\n",
        "from sklearn.metrics import mean_squared_error, r2_score\n",
        "\n",
        "# Load dataset\n",
        "df = pd.read_csv('/content/house_prices.csv')\n",
        "\n",
        "# Select top 3 features\n",
        "X = df[['sqft_living', 'grade', 'bathrooms']]\n",
        "y = df['price']\n",
        "\n",
        "# Split data\n",
        "X_train, X_test, y_train, y_test = train_test_split(X, y, test_size=0.2, random_state=42)\n",
        "\n",
        "# Train model\n",
        "model = LinearRegression()\n",
        "model.fit(X_train, y_train)\n",
        "\n",
        "# Evaluate\n",
        "y_pred = model.predict(X_test)\n",
        "print(\"MSE:\", mean_squared_error(y_test, y_pred))\n",
        "print(\"R² Score:\", r2_score(y_test, y_pred))\n"
      ],
      "metadata": {
        "id": "SWAu247kZDCq"
      },
      "execution_count": null,
      "outputs": []
    },
    {
      "cell_type": "code",
      "source": [
        "# Ask user for all three inputs\n",
        "sqft = float(input(\"Enter square footage of living space: \"))\n",
        "grade = float(input(\"Enter grade (1–13): \"))\n",
        "bath = float(input(\"Enter number of bathrooms: \"))\n",
        "\n",
        "# Create a DataFrame with the inputs\n",
        "user_df = pd.DataFrame([[sqft, grade, bath]], columns=['sqft_living', 'grade', 'bathrooms'])\n",
        "\n",
        "# Predict using the trained model\n",
        "predicted_price = model.predict(user_df)[0]\n",
        "\n",
        "# Show result\n",
        "print(f\"\\nPredicted House Price: ${predicted_price:,.2f}\")\n",
        "\n"
      ],
      "metadata": {
        "id": "awEr1OrEZ6lF"
      },
      "execution_count": null,
      "outputs": []
    },
    {
      "cell_type": "code",
      "source": [
        "import pandas as pd\n",
        "from sklearn.cluster import KMeans\n",
        "from sklearn.preprocessing import StandardScaler\n",
        "import matplotlib.pyplot as plt\n",
        "import seaborn as sns"
      ],
      "metadata": {
        "id": "qzyh68ab6JPR"
      },
      "execution_count": null,
      "outputs": []
    },
    {
      "cell_type": "code",
      "source": [
        "# Load dataset\n",
        "url = 'https://raw.githubusercontent.com/kennedykwangari/Mall-Customer-Segmentation-Data/master/Mall_Customers.csv'\n",
        "df = pd.read_csv(url)\n",
        "\n",
        "# Preprocess\n",
        "X = df[['Annual Income (k$)', 'Spending Score (1-100)']]\n",
        "scaler = StandardScaler()\n",
        "X_scaled = scaler.fit_transform(X)\n",
        "\n",
        "# Apply KMeans\n",
        "kmeans = KMeans(n_clusters=5, random_state=42)\n",
        "df['Cluster'] = kmeans.fit_predict(X_scaled)\n",
        "\n",
        "# Visualize\n",
        "sns.scatterplot(x='Annual Income (k$)', y='Spending Score (1-100)', hue='Cluster', data=df, palette='Set2')\n",
        "plt.title(\"Customer Segments\")\n",
        "plt.show()\n"
      ],
      "metadata": {
        "id": "GZtHs13J6Lk7"
      },
      "execution_count": null,
      "outputs": []
    },
    {
      "cell_type": "code",
      "source": [
        "import kagglehub\n",
        "\n",
        "# Download latest version\n",
        "path = kagglehub.dataset_download(\"alyelbadry/house-pricing-dataset\")\n",
        "\n",
        "print(\"Path to dataset files:\", path)"
      ],
      "metadata": {
        "id": "Bqr8mtFiELYt"
      },
      "execution_count": null,
      "outputs": []
    }
  ]
}
