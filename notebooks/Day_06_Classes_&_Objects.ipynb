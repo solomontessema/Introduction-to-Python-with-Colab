{
  "nbformat": 4,
  "nbformat_minor": 0,
  "metadata": {
    "colab": {
      "provenance": [],
      "include_colab_link": true
    },
    "kernelspec": {
      "name": "python3",
      "display_name": "Python 3"
    },
    "language_info": {
      "name": "python"
    }
  },
  "cells": [
    {
      "cell_type": "markdown",
      "metadata": {
        "id": "view-in-github",
        "colab_type": "text"
      },
      "source": [
        "<a href=\"https://colab.research.google.com/github/solomontessema/Introduction-to-Python-with-Colab/blob/master/notebooks/Day_06_Classes_%26_Objects.ipynb\" target=\"_parent\"><img src=\"https://colab.research.google.com/assets/colab-badge.svg\" alt=\"Open In Colab\"/></a>"
      ]
    },
    {
      "cell_type": "markdown",
      "source": [
        "table>\n",
        "  <tr>\n",
        "    <td><img src=\"https://ionnova.com/img/ionnova_logo_name_2.png\" width=\"120px\"></td>\n",
        "    <td><h1>Day 06: Classes & Objects</h1></td>\n",
        "  </tr>\n",
        "</table>\n"
      ],
      "metadata": {
        "id": "NIkj1NyMmtpf"
      }
    },
    {
      "cell_type": "code",
      "execution_count": null,
      "metadata": {
        "id": "0JPgPHmzZZFz"
      },
      "outputs": [],
      "source": [
        "\n",
        "import math\n",
        "\n",
        "class Rectangle:\n",
        "\n",
        "\n",
        "    def describe():\n",
        "        return \"Rectangles are 4 sided shapes!\"\n",
        "\n",
        "\n",
        "    def __init__(self,l,w,c):\n",
        "        self.length = l\n",
        "        self.width = w\n",
        "        self.color = c\n",
        "\n",
        "    def area(self):\n",
        "        return self.length * self.width\n",
        "\n",
        "    def perimeter(self):\n",
        "        return 2 * self.length +  2 * self.width\n",
        "\n",
        "\n",
        "class Circle:\n",
        "\n",
        "    def describe():\n",
        "      return \"Circles are round objects.\"\n",
        "\n",
        "    def __init__(self,r,c):\n",
        "        self.radius = r\n",
        "        self.color = c\n",
        "\n",
        "    def area(self):\n",
        "        return 3.14  * self.radius * self.radius\n",
        "\n",
        "    def circumference (self):\n",
        "        return 3.14 * 2 * self.radius\n",
        "\n"
      ]
    },
    {
      "cell_type": "code",
      "source": [
        "myFirstRectangle = Rectangle(50,20,\"Red\")\n",
        "myFirstCircle = Circle(20,\"Yellow\")\n",
        "mySecondCircle = Circle(25,\"Purple\")\n",
        "mySecondRectangle = Rectangle(100,40,\"Blue\")\n",
        "r3 = Rectangle(5,4,\"White\")\n",
        "\n",
        "print(\"Area of My First Rectangle: \" , myFirstRectangle.area())\n",
        "print(\"Area of My Second Rectangle: \" , mySecondRectangle.area())\n",
        "print(\"Area of My Second Circle: \" , mySecondCircle.area())\n",
        "print(\"Circumference of My Second Circle: \" , mySecondCircle.circumference())\n",
        "\n",
        "print(myFirstRectangle.perimeter())\n",
        "\n",
        "print(myFirstRectangle.length)\n",
        "print(myFirstRectangle.color)\n",
        "print(myFirstCircle.color)\n",
        "\n",
        "print(Rectangle.describe())\n",
        "\n",
        "print(Circle.describe())\n",
        "\n"
      ],
      "metadata": {
        "id": "78RI9EAOb8Yz"
      },
      "execution_count": null,
      "outputs": []
    },
    {
      "cell_type": "code",
      "source": [
        "class Book:\n",
        "\n",
        "    def define():\n",
        "        return \"Books are things that we read.\"\n",
        "\n",
        "    def __init__(self, title, author):\n",
        "        self.title = title\n",
        "        self.author = author\n",
        "\n",
        "    def describe(self):\n",
        "        return f\"Book(title={self.title!r}, author={self.author!r})\"\n"
      ],
      "metadata": {
        "id": "Lu_ajvTGpAXt"
      },
      "execution_count": null,
      "outputs": []
    },
    {
      "cell_type": "code",
      "source": [
        "myFirstBook = Book(\"Python for Every One\", \"Daniel Smith\")\n",
        "\n",
        "print(myFirstBook.describe())\n",
        "print(Book.define())\n"
      ],
      "metadata": {
        "id": "0YqqW-r0pDeT"
      },
      "execution_count": null,
      "outputs": []
    },
    {
      "cell_type": "code",
      "source": [],
      "metadata": {
        "id": "hn4ANSF3phdX"
      },
      "execution_count": null,
      "outputs": []
    }
  ]
}