{
  "nbformat": 4,
  "nbformat_minor": 0,
  "metadata": {
    "colab": {
      "provenance": [],
      "include_colab_link": true
    },
    "kernelspec": {
      "name": "python3",
      "display_name": "Python 3"
    },
    "language_info": {
      "name": "python"
    }
  },
  "cells": [
    {
      "cell_type": "markdown",
      "metadata": {
        "id": "view-in-github",
        "colab_type": "text"
      },
      "source": [
        "<a href=\"https://colab.research.google.com/github/solomontessema/Introduction-to-Python-with-Colab/blob/master/notebooks/Day_7_Web_Requests_%26_APIs.ipynb\" target=\"_parent\"><img src=\"https://colab.research.google.com/assets/colab-badge.svg\" alt=\"Open In Colab\"/></a>"
      ]
    },
    {
      "cell_type": "markdown",
      "source": [
        "<table>\n",
        "  <tr>\n",
        "    <td><img src=\"https://ionnova.com/img/ionnova_logo_name_2.png\" width=\"120px\"></td>\n",
        "    <td><h1>Day 07: Web Requests & APIs</h1></td>\n",
        "  </tr>\n",
        "</table>"
      ],
      "metadata": {
        "id": "7gLSS7q_nad4"
      }
    },
    {
      "cell_type": "markdown",
      "source": [
        "# Concepts Covered:\n",
        "\n",
        "* Making HTTP requests (GET, POST) using the requests library\n",
        "* Sending headers and payloads\n",
        "* Parsing JSON responses\n"
      ],
      "metadata": {
        "id": "QEcpcQFXl9fo"
      }
    },
    {
      "cell_type": "code",
      "source": [
        "import requests\n",
        "\n",
        "# URL of Google Apps Script\n",
        "url = \"https://script.google.com/macros/s/AKfycbyfC2qINOcWTLxZCEMpACU4f0X77Ty0P8nt8x6ypClGzzWztEmG_QhMGtmCwzxxoJ0NAQ/exec\"\n",
        "\n",
        "\n",
        "# Collect input from user\n",
        "name = input(\"Enter Name: \")\n",
        "score = input(\"Enter Score: \")\n",
        "\n",
        "# Prepare data payload\n",
        "data = {\n",
        "    \"name\": name,\n",
        "    \"score\": score\n",
        "}\n",
        "\n",
        "# Define headers\n",
        "headers = {\n",
        "    \"Content-Type\": \"application/json\"\n",
        "}\n",
        "\n",
        "# Send POST request with headers\n",
        "response = requests.post(url, json=data, headers=headers)\n",
        "\n",
        "# Show response\n",
        "print(\"Response from Google Sheet:\", response.text)\n"
      ],
      "metadata": {
        "colab": {
          "base_uri": "https://localhost:8080/"
        },
        "id": "CoEmkmvNmLt_",
        "outputId": "b2f1e43d-0a53-402e-9471-ffeeb1be9d8f"
      },
      "execution_count": null,
      "outputs": [
        {
          "output_type": "stream",
          "name": "stdout",
          "text": [
            "Enter Name: Jason Meekins\n",
            "Enter Score: 157\n",
            "Response from Google Sheet: {\"message\":\"Success\"}\n"
          ]
        }
      ]
    },
    {
      "cell_type": "code",
      "source": [
        "import requests\n",
        "\n",
        "url = \"https://script.google.com/macros/s/AKfycbyfC2qINOcWTLxZCEMpACU4f0X77Ty0P8nt8x6ypClGzzWztEmG_QhMGtmCwzxxoJ0NAQ/exec\"\n",
        "headers = { \"Accept\": \"application/json\" }\n",
        "\n",
        "response = requests.get(url, headers=headers)\n",
        "\n",
        "if response.status_code == 200:\n",
        "    try:\n",
        "        data = response.json()\n",
        "        print(\"Data from Google Sheet:\")\n",
        "        for row in data:\n",
        "            print(f\"Name: {row['name']}, Score: {row['score']}\")\n",
        "    except ValueError:\n",
        "        print(\"Response is not valid JSON:\", response.text)\n",
        "else:\n",
        "    print(\"Failed to fetch data. Status code:\", response.status_code)\n"
      ],
      "metadata": {
        "colab": {
          "base_uri": "https://localhost:8080/"
        },
        "id": "XUsveo7zC1Rm",
        "outputId": "872d7885-30c5-43d2-8e64-19c79b4f1dbf"
      },
      "execution_count": null,
      "outputs": [
        {
          "output_type": "stream",
          "name": "stdout",
          "text": [
            "Data from Google Sheet:\n",
            "Name: Solomon, Score: 94\n",
            "Name: Jason, Score: 95\n",
            "Name: Jason Meekins, Score: 157\n"
          ]
        }
      ]
    },
    {
      "cell_type": "code",
      "source": [
        "pip install google-api-python-client google-auth-httplib2 google-auth-oauthlib"
      ],
      "metadata": {
        "colab": {
          "base_uri": "https://localhost:8080/"
        },
        "id": "IuB6JtMnNauf",
        "outputId": "388e829c-aa2f-4f6f-99bd-664b090f7cd8"
      },
      "execution_count": null,
      "outputs": [
        {
          "output_type": "stream",
          "name": "stdout",
          "text": [
            "Requirement already satisfied: google-api-python-client in /usr/local/lib/python3.12/dist-packages (2.181.0)\n",
            "Requirement already satisfied: google-auth-httplib2 in /usr/local/lib/python3.12/dist-packages (0.2.0)\n",
            "Requirement already satisfied: google-auth-oauthlib in /usr/local/lib/python3.12/dist-packages (1.2.2)\n",
            "Requirement already satisfied: httplib2<1.0.0,>=0.19.0 in /usr/local/lib/python3.12/dist-packages (from google-api-python-client) (0.30.0)\n",
            "Requirement already satisfied: google-auth!=2.24.0,!=2.25.0,<3.0.0,>=1.32.0 in /usr/local/lib/python3.12/dist-packages (from google-api-python-client) (2.38.0)\n",
            "Requirement already satisfied: google-api-core!=2.0.*,!=2.1.*,!=2.2.*,!=2.3.0,<3.0.0,>=1.31.5 in /usr/local/lib/python3.12/dist-packages (from google-api-python-client) (2.25.1)\n",
            "Requirement already satisfied: uritemplate<5,>=3.0.1 in /usr/local/lib/python3.12/dist-packages (from google-api-python-client) (4.2.0)\n",
            "Requirement already satisfied: requests-oauthlib>=0.7.0 in /usr/local/lib/python3.12/dist-packages (from google-auth-oauthlib) (2.0.0)\n",
            "Requirement already satisfied: googleapis-common-protos<2.0.0,>=1.56.2 in /usr/local/lib/python3.12/dist-packages (from google-api-core!=2.0.*,!=2.1.*,!=2.2.*,!=2.3.0,<3.0.0,>=1.31.5->google-api-python-client) (1.70.0)\n",
            "Requirement already satisfied: protobuf!=3.20.0,!=3.20.1,!=4.21.0,!=4.21.1,!=4.21.2,!=4.21.3,!=4.21.4,!=4.21.5,<7.0.0,>=3.19.5 in /usr/local/lib/python3.12/dist-packages (from google-api-core!=2.0.*,!=2.1.*,!=2.2.*,!=2.3.0,<3.0.0,>=1.31.5->google-api-python-client) (5.29.5)\n",
            "Requirement already satisfied: proto-plus<2.0.0,>=1.22.3 in /usr/local/lib/python3.12/dist-packages (from google-api-core!=2.0.*,!=2.1.*,!=2.2.*,!=2.3.0,<3.0.0,>=1.31.5->google-api-python-client) (1.26.1)\n",
            "Requirement already satisfied: requests<3.0.0,>=2.18.0 in /usr/local/lib/python3.12/dist-packages (from google-api-core!=2.0.*,!=2.1.*,!=2.2.*,!=2.3.0,<3.0.0,>=1.31.5->google-api-python-client) (2.32.4)\n",
            "Requirement already satisfied: cachetools<6.0,>=2.0.0 in /usr/local/lib/python3.12/dist-packages (from google-auth!=2.24.0,!=2.25.0,<3.0.0,>=1.32.0->google-api-python-client) (5.5.2)\n",
            "Requirement already satisfied: pyasn1-modules>=0.2.1 in /usr/local/lib/python3.12/dist-packages (from google-auth!=2.24.0,!=2.25.0,<3.0.0,>=1.32.0->google-api-python-client) (0.4.2)\n",
            "Requirement already satisfied: rsa<5,>=3.1.4 in /usr/local/lib/python3.12/dist-packages (from google-auth!=2.24.0,!=2.25.0,<3.0.0,>=1.32.0->google-api-python-client) (4.9.1)\n",
            "Requirement already satisfied: pyparsing<4,>=3.0.4 in /usr/local/lib/python3.12/dist-packages (from httplib2<1.0.0,>=0.19.0->google-api-python-client) (3.2.3)\n",
            "Requirement already satisfied: oauthlib>=3.0.0 in /usr/local/lib/python3.12/dist-packages (from requests-oauthlib>=0.7.0->google-auth-oauthlib) (3.3.1)\n",
            "Requirement already satisfied: pyasn1<0.7.0,>=0.6.1 in /usr/local/lib/python3.12/dist-packages (from pyasn1-modules>=0.2.1->google-auth!=2.24.0,!=2.25.0,<3.0.0,>=1.32.0->google-api-python-client) (0.6.1)\n",
            "Requirement already satisfied: charset_normalizer<4,>=2 in /usr/local/lib/python3.12/dist-packages (from requests<3.0.0,>=2.18.0->google-api-core!=2.0.*,!=2.1.*,!=2.2.*,!=2.3.0,<3.0.0,>=1.31.5->google-api-python-client) (3.4.3)\n",
            "Requirement already satisfied: idna<4,>=2.5 in /usr/local/lib/python3.12/dist-packages (from requests<3.0.0,>=2.18.0->google-api-core!=2.0.*,!=2.1.*,!=2.2.*,!=2.3.0,<3.0.0,>=1.31.5->google-api-python-client) (3.10)\n",
            "Requirement already satisfied: urllib3<3,>=1.21.1 in /usr/local/lib/python3.12/dist-packages (from requests<3.0.0,>=2.18.0->google-api-core!=2.0.*,!=2.1.*,!=2.2.*,!=2.3.0,<3.0.0,>=1.31.5->google-api-python-client) (2.5.0)\n",
            "Requirement already satisfied: certifi>=2017.4.17 in /usr/local/lib/python3.12/dist-packages (from requests<3.0.0,>=2.18.0->google-api-core!=2.0.*,!=2.1.*,!=2.2.*,!=2.3.0,<3.0.0,>=1.31.5->google-api-python-client) (2025.8.3)\n"
          ]
        }
      ]
    },
    {
      "cell_type": "code",
      "source": [
        "import requests\n",
        "\n",
        "# URL of Google Apps Script\n",
        "url = \"https://script.google.com/macros/s/AKfycbyUHtIWuv80QonqxpVyBZBxQAiV8tgMosB7Q3PJH39UStX5DYFEiEWAcuWpWvJXMgBrtg/exec\"\n",
        "\n",
        "\n",
        "# Collect input from user\n",
        "name = input(\"Enter Name: \")\n",
        "score = input(\"Enter Score: \")\n",
        "\n",
        "# Prepare data payload\n",
        "data = {\n",
        "    \"name\": name,\n",
        "    \"score\": score\n",
        "}\n",
        "\n",
        "# Define headers\n",
        "headers = {\n",
        "    \"Content-Type\": \"application/json\"\n",
        "}\n",
        "\n",
        "# Send POST request with headers\n",
        "response = requests.post(url, json=data, headers=headers)\n",
        "\n",
        "# Show response\n",
        "print(\"Response from Google Sheet:\", response.text)"
      ],
      "metadata": {
        "id": "tpgBiXeFC0KS",
        "colab": {
          "base_uri": "https://localhost:8080/"
        },
        "outputId": "19da98b1-e1b2-4b35-a4ac-ecc105666bb8"
      },
      "execution_count": null,
      "outputs": [
        {
          "output_type": "stream",
          "name": "stdout",
          "text": [
            "Enter Name: Jason\n",
            "Enter Score: 67\n",
            "Response from Google Sheet: {\"message\":\"Success\"}\n"
          ]
        }
      ]
    },
    {
      "cell_type": "code",
      "source": [
        "import requests\n",
        "\n",
        "url = \"https://script.google.com/macros/s/AKfycbyUHtIWuv80QonqxpVyBZBxQAiV8tgMosB7Q3PJH39UStX5DYFEiEWAcuWpWvJXMgBrtg/exec\"\n",
        "headers = { \"Accept\": \"application/json\" }\n",
        "\n",
        "response = requests.get(url, headers=headers)\n",
        "\n",
        "if response.status_code == 200:\n",
        "    try:\n",
        "        data = response.json()\n",
        "        print(\"Data from Google Sheet:\")\n",
        "        for row in data:\n",
        "            print(f\"Name: {row['name']}, Score: {row['score']}\")\n",
        "    except ValueError:\n",
        "        print(\"Response is not valid JSON:\", response.text)\n",
        "else:\n",
        "    print(\"Failed to fetch data. Status code:\", response.status_code)"
      ],
      "metadata": {
        "colab": {
          "base_uri": "https://localhost:8080/"
        },
        "id": "vwmlcuXcHQif",
        "outputId": "e94e10d2-b14c-4d39-af59-0847e580df57"
      },
      "execution_count": null,
      "outputs": [
        {
          "output_type": "stream",
          "name": "stdout",
          "text": [
            "Data from Google Sheet:\n",
            "Name: Solomon, Score: 94\n",
            "Name: Jason, Score: 95\n",
            "Name: Jason Meekins, Score: 157\n",
            "Name: Jason, Score: 90\n",
            "Name: Jason, Score: 87\n",
            "Name: Jason, Score: 67\n"
          ]
        }
      ]
    }
  ]
}