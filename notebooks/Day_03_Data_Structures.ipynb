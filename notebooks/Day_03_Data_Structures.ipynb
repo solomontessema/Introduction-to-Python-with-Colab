{
  "nbformat": 4,
  "nbformat_minor": 0,
  "metadata": {
    "colab": {
      "provenance": [],
      "include_colab_link": true
    },
    "kernelspec": {
      "name": "python3",
      "display_name": "Python 3"
    },
    "language_info": {
      "name": "python"
    }
  },
  "cells": [
    {
      "cell_type": "markdown",
      "metadata": {
        "id": "view-in-github",
        "colab_type": "text"
      },
      "source": [
        "<a href=\"https://colab.research.google.com/github/solomontessema/Introduction-to-Python-with-Colab/blob/master/notebooks/Day_03_Data_Structures.ipynb\" target=\"_parent\"><img src=\"https://colab.research.google.com/assets/colab-badge.svg\" alt=\"Open In Colab\"/></a>"
      ]
    },
    {
      "cell_type": "markdown",
      "source": [
        "<table>\n",
        "  <tr>\n",
        "    <td><img src=\"https://ionnova.com/img/ionnova_logo_name_2.png\" width=\"120px\"></td>\n",
        "    <td><h1>Day 3: Data Structures</h1></td>\n",
        "  </tr>\n",
        "</table>"
      ],
      "metadata": {
        "id": "oP0UnaiSEPzr"
      }
    },
    {
      "cell_type": "markdown",
      "source": [
        "# Day 3: Data Structures\n",
        "Welcome to Day 3! Today we explore Python's built-in data structures—lists, tuples, sets, and dictionaries. These are essential tools for organizing and manipulating data efficiently. Let's dive in with examples and interactive exercises!\n"
      ],
      "metadata": {
        "id": "DeUXAMVxhM5c"
      }
    },
    {
      "cell_type": "markdown",
      "source": [
        "# **Lists**\n",
        "A List is an ordered, changeable collection.\n",
        "Can store duplicates.\n",
        "Best when you need a sequence of items."
      ],
      "metadata": {
        "id": "Lc28ZmMJGg8l"
      }
    },
    {
      "cell_type": "code",
      "source": [
        "fruits = [\"apple\", \"banana\", \"cherry\"]\n",
        "print(fruits)"
      ],
      "metadata": {
        "id": "QnNdgTVfGfyL"
      },
      "execution_count": null,
      "outputs": []
    },
    {
      "cell_type": "code",
      "source": [
        "print(fruits[0])"
      ],
      "metadata": {
        "id": "-x7K2kIVG7U8"
      },
      "execution_count": null,
      "outputs": []
    },
    {
      "cell_type": "markdown",
      "source": [
        "## **Modifying Lists**\n",
        "* append() → add one item at the end\n",
        "* insert() → add at a specific index\n",
        "* extend() → add multiple items\n",
        "* \"+\" → join two lists"
      ],
      "metadata": {
        "id": "vmOinw6quh2I"
      }
    },
    {
      "cell_type": "code",
      "source": [
        "fruits.append(\"peach\")\n",
        "print(fruits)"
      ],
      "metadata": {
        "id": "wepK0sRhudu8"
      },
      "execution_count": null,
      "outputs": []
    },
    {
      "cell_type": "code",
      "source": [
        "fruits.insert(2, \"orange\")   # add at index 2 (note that the list index begins with 0)\n",
        "print(fruits)"
      ],
      "metadata": {
        "id": "oMwnI2vwuulQ"
      },
      "execution_count": null,
      "outputs": []
    },
    {
      "cell_type": "code",
      "source": [
        "fruits.extend([\"watermelon\", \"mango\"])\n",
        "print(fruits)"
      ],
      "metadata": {
        "id": "qCOwE0-FvMOR"
      },
      "execution_count": null,
      "outputs": []
    },
    {
      "cell_type": "code",
      "source": [
        "more_fruits = [\"pineapple\", \"grape\", \"strawberry\"]\n",
        "fruits = fruits + more_fruits\n",
        "print(fruits)"
      ],
      "metadata": {
        "id": "qs8yZidZvX0K"
      },
      "execution_count": null,
      "outputs": []
    },
    {
      "cell_type": "code",
      "source": [
        "fruits.remove(\"banana\")   # removes the first \"banana in the list.\"\n",
        "print(fruits)"
      ],
      "metadata": {
        "id": "xCCgvWOQuFGn"
      },
      "execution_count": null,
      "outputs": []
    },
    {
      "cell_type": "code",
      "execution_count": null,
      "metadata": {
        "id": "hlFJAQ20tLTf"
      },
      "outputs": [],
      "source": [
        "removed_item = fruits.pop(2)   # removes index 2 → \"cherry\"\n",
        "print(\"Updated list:\", fruits)\n",
        "print(\"Removed item:\", removed_item)"
      ]
    },
    {
      "cell_type": "code",
      "source": [
        "del fruits[0]\n",
        "print(fruits)"
      ],
      "metadata": {
        "id": "K9sTj_vSty27"
      },
      "execution_count": null,
      "outputs": []
    },
    {
      "cell_type": "code",
      "source": [
        "fruits.clear()\n",
        "print(fruits)"
      ],
      "metadata": {
        "id": "Xka2XP4Wtjky"
      },
      "execution_count": null,
      "outputs": []
    },
    {
      "cell_type": "code",
      "source": [
        "fruits_to_remove = {\"apple\", \"banana\"}\n",
        "fruits = [fruit for fruit in fruits if fruit not in fruits_to_remove]\n",
        "print(fruits)"
      ],
      "metadata": {
        "id": "5Q4VsOXVkkZd"
      },
      "execution_count": null,
      "outputs": []
    },
    {
      "cell_type": "code",
      "source": [
        "for fruit in fruits:\n",
        "    print(fruit)"
      ],
      "metadata": {
        "id": "YUQ9i8FVI7Z2"
      },
      "execution_count": null,
      "outputs": []
    },
    {
      "cell_type": "code",
      "source": [
        "# inserting user input into the fruits list\n",
        "for i in range(1,5):\n",
        "  newFruit = input()\n",
        "  fruits.append(newFruit)"
      ],
      "metadata": {
        "id": "u5yutsHeSAgq"
      },
      "execution_count": null,
      "outputs": []
    },
    {
      "cell_type": "markdown",
      "source": [
        "## 🧪 Exercise: Build Your Grocery List\n",
        "Create a list called `grocery_list` and add at least 5 items using `append()`. Then:\n",
        "- Insert a new item at index 2\n",
        "- Remove the last item using `pop()`\n",
        "- Print the final list\n"
      ],
      "metadata": {
        "id": "u1151YNChVmW"
      }
    },
    {
      "cell_type": "code",
      "source": [
        "grocery_list = []\n",
        "\n",
        "# Add 5 items using append()\n",
        "grocery_list.append(\"milk\")\n",
        "grocery_list.append(\"bread\")\n",
        "grocery_list.append(\"eggs\")\n",
        "grocery_list.append(\"apples\")\n",
        "grocery_list.append(\"cheese\")\n",
        "\n",
        "# Insert a new item at index 2\n",
        "grocery_list.insert(2, \"____\")  # ← fill in your item\n",
        "\n",
        "# Remove the last item\n",
        "grocery_list.pop()\n",
        "\n",
        "# Print the final list\n",
        "print(grocery_list)"
      ],
      "metadata": {
        "id": "LX9lbIs0hk-S"
      },
      "execution_count": null,
      "outputs": []
    },
    {
      "cell_type": "markdown",
      "source": [
        "## 🧪 Exercise: Tuple of Coordinates\n",
        "Create a tuple `coordinates` with latitude and longitude. Then:\n",
        "- Print each value using indexing\n",
        "- Try modifying a value and observe the error\n"
      ],
      "metadata": {
        "id": "U7e-cshthZVK"
      }
    },
    {
      "cell_type": "code",
      "source": [
        "coordinates = (____, ____)  # ← fill in latitude and longitude\n",
        "\n",
        "# Print each value\n",
        "print(\"Latitude:\", coordinates[0])\n",
        "print(\"Longitude:\", coordinates[1])\n",
        "\n",
        "# Try modifying a value\n",
        "# coordinates[0] = ____  # ← uncomment and try this line"
      ],
      "metadata": {
        "id": "AO6eLLD6huwx"
      },
      "execution_count": null,
      "outputs": []
    },
    {
      "cell_type": "markdown",
      "source": [
        "## 🧪 Exercise: Student Grades\n",
        "Create a dictionary `grades` with 3 students and their scores. Then:\n",
        "- Add a new student\n",
        "- Update one score\n",
        "- Loop through the dictionary to print each student and grade\n"
      ],
      "metadata": {
        "id": "-ZkXspe8h1_6"
      }
    },
    {
      "cell_type": "code",
      "source": [
        "grades = {\n",
        "    \"Alice\": 85,\n",
        "    \"Bob\": 90,\n",
        "    \"Charlie\": 78\n",
        "}\n",
        "\n",
        "# Add a new student\n",
        "grades[\"____\"] = ____  # ← fill in name and score\n",
        "\n",
        "# Update one score\n",
        "grades[\"Alice\"] = ____  # ← new score for Alice\n",
        "\n",
        "# Print each student and grade\n",
        "for student, score in grades.items():\n",
        "    print(student, \"scored\", score)"
      ],
      "metadata": {
        "id": "pyRgOUGdhX4D"
      },
      "execution_count": null,
      "outputs": []
    }
  ]
}