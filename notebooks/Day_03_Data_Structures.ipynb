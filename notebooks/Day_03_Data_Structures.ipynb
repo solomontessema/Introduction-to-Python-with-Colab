{
  "nbformat": 4,
  "nbformat_minor": 0,
  "metadata": {
    "colab": {
      "provenance": [],
      "include_colab_link": true
    },
    "kernelspec": {
      "name": "python3",
      "display_name": "Python 3"
    },
    "language_info": {
      "name": "python"
    }
  },
  "cells": [
    {
      "cell_type": "markdown",
      "metadata": {
        "id": "view-in-github",
        "colab_type": "text"
      },
      "source": [
        "<a href=\"https://colab.research.google.com/github/solomontessema/Introduction-to-Python-with-Colab/blob/master/notebooks/Day_03_Data_Structures.ipynb\" target=\"_parent\"><img src=\"https://colab.research.google.com/assets/colab-badge.svg\" alt=\"Open In Colab\"/></a>"
      ]
    },
    {
      "cell_type": "markdown",
      "source": [
        "<table>\n",
        "  <tr>\n",
        "    <td><img src=\"https://ionnova.com/img/ionnova_logo_name_2.png\" width=\"120px\"></td>\n",
        "    <td><h1>Day 3: Data Structures</h1></td>\n",
        "  </tr>\n",
        "</table>"
      ],
      "metadata": {
        "id": "oP0UnaiSEPzr"
      }
    },
    {
      "cell_type": "markdown",
      "source": [
        "# Day 3: Data Structures\n",
        "\n",
        "Python provides four main built-in data structures:\n",
        "\n",
        "- **List**: An ordered, changeable collection that allows duplicates.\n",
        "- **Tuple**: An ordered, unchangeable collection used for fixed data.\n",
        "- **Set**: An unordered collection of unique items.\n",
        "- **Dictionary**: A collection of key–value pairs for fast lookups and structured data.\n",
        "\n",
        "Each structure serves a different purpose in organizing and manipulating data. We'll explore them with examples and exercises.\n",
        "\n"
      ],
      "metadata": {
        "id": "DeUXAMVxhM5c"
      }
    },
    {
      "cell_type": "markdown",
      "source": [
        "# **Lists**\n",
        "A List is an ordered, changeable collection.\n",
        "Can store duplicates.\n",
        "Best when you need a sequence of items."
      ],
      "metadata": {
        "id": "Lc28ZmMJGg8l"
      }
    },
    {
      "cell_type": "code",
      "source": [
        "fruits = [\"apple\", \"banana\", \"cherry\"]\n",
        "print(fruits)"
      ],
      "metadata": {
        "id": "QnNdgTVfGfyL"
      },
      "execution_count": null,
      "outputs": []
    },
    {
      "cell_type": "code",
      "source": [
        "print(fruits[0])"
      ],
      "metadata": {
        "id": "-x7K2kIVG7U8"
      },
      "execution_count": null,
      "outputs": []
    },
    {
      "cell_type": "markdown",
      "source": [
        "## **Modifying Lists**\n",
        "* append() → add one item at the end\n",
        "* insert() → add at a specific index\n",
        "* extend() → add multiple items\n",
        "* \"+\" → join two lists"
      ],
      "metadata": {
        "id": "vmOinw6quh2I"
      }
    },
    {
      "cell_type": "code",
      "source": [
        "fruits.append(\"peach\")\n",
        "print(fruits)"
      ],
      "metadata": {
        "id": "wepK0sRhudu8"
      },
      "execution_count": null,
      "outputs": []
    },
    {
      "cell_type": "code",
      "source": [
        "fruits.insert(2, \"orange\")   # add at index 2 (note that the list index begins with 0)\n",
        "print(fruits)"
      ],
      "metadata": {
        "id": "oMwnI2vwuulQ"
      },
      "execution_count": null,
      "outputs": []
    },
    {
      "cell_type": "code",
      "source": [
        "fruits.extend([\"watermelon\", \"mango\"])\n",
        "print(fruits)"
      ],
      "metadata": {
        "id": "qCOwE0-FvMOR"
      },
      "execution_count": null,
      "outputs": []
    },
    {
      "cell_type": "code",
      "source": [
        "more_fruits = [\"pineapple\", \"grape\", \"strawberry\"]\n",
        "fruits = fruits + more_fruits\n",
        "print(fruits)"
      ],
      "metadata": {
        "id": "qs8yZidZvX0K"
      },
      "execution_count": null,
      "outputs": []
    },
    {
      "cell_type": "code",
      "source": [
        "fruits.remove(\"banana\")   # removes the first \"banana in the list.\"\n",
        "print(fruits)"
      ],
      "metadata": {
        "id": "xCCgvWOQuFGn"
      },
      "execution_count": null,
      "outputs": []
    },
    {
      "cell_type": "code",
      "execution_count": null,
      "metadata": {
        "id": "hlFJAQ20tLTf"
      },
      "outputs": [],
      "source": [
        "removed_item = fruits.pop(2)   # removes index 2 → \"cherry\"\n",
        "print(\"Updated list:\", fruits)\n",
        "print(\"Removed item:\", removed_item)"
      ]
    },
    {
      "cell_type": "code",
      "source": [
        "del fruits[0]\n",
        "print(fruits)"
      ],
      "metadata": {
        "id": "K9sTj_vSty27"
      },
      "execution_count": null,
      "outputs": []
    },
    {
      "cell_type": "code",
      "source": [
        "fruits_to_remove = {\"apple\", \"banana\"}\n",
        "fruits = [fruit for fruit in fruits if fruit not in fruits_to_remove]\n",
        "print(fruits)"
      ],
      "metadata": {
        "id": "5Q4VsOXVkkZd"
      },
      "execution_count": null,
      "outputs": []
    },
    {
      "cell_type": "code",
      "source": [
        "for fruit in fruits:\n",
        "    print(fruit)"
      ],
      "metadata": {
        "id": "YUQ9i8FVI7Z2"
      },
      "execution_count": null,
      "outputs": []
    },
    {
      "cell_type": "code",
      "source": [
        "# inserting user input into the fruits list\n",
        "for i in range(1,5):\n",
        "  newFruit = input()\n",
        "  fruits.append(newFruit)"
      ],
      "metadata": {
        "id": "u5yutsHeSAgq"
      },
      "execution_count": null,
      "outputs": []
    },
    {
      "cell_type": "code",
      "source": [
        "print(fruits)"
      ],
      "metadata": {
        "id": "TfKLogzaOvUV"
      },
      "execution_count": null,
      "outputs": []
    },
    {
      "cell_type": "code",
      "source": [
        "fruits.clear()\n",
        "print(fruits)"
      ],
      "metadata": {
        "id": "gTw5f4rlOGFW"
      },
      "execution_count": null,
      "outputs": []
    },
    {
      "cell_type": "code",
      "source": [
        "print(fruits)"
      ],
      "metadata": {
        "id": "QNkS2m7IO3iG"
      },
      "execution_count": null,
      "outputs": []
    },
    {
      "cell_type": "markdown",
      "source": [
        "## 📘 Tuples in Python\n",
        "\n",
        "A **tuple** is an ordered collection of items that cannot be changed after creation. Tuples are useful when you want to store a fixed group of values—like coordinates, RGB colors, or dates.\n",
        "\n",
        "- Defined using parentheses: `(item1, item2, ...)`\n",
        "- Elements are accessed by index\n",
        "- Tuples are **immutable** (you can't add, remove, or change items)\n",
        "\n",
        "\n"
      ],
      "metadata": {
        "id": "dAfxvgHu1bd1"
      }
    },
    {
      "cell_type": "code",
      "source": [
        "location = (32.95, -96.84)  # latitude, longitude\n",
        "print(\"Latitude:\", location[0])\n",
        "print(\"Longitude:\", location[1])"
      ],
      "metadata": {
        "id": "hslVFsFt1dcq"
      },
      "execution_count": null,
      "outputs": []
    },
    {
      "cell_type": "markdown",
      "source": [
        "## 📘 Sets in Python\n",
        "\n",
        "A **set** is an unordered collection of unique items. Sets automatically remove duplicates and are useful for checking membership, filtering data, and performing math-like operations such as union and intersection.\n",
        "\n",
        "### 🔑 Key Features\n",
        "- Defined using curly braces: `{item1, item2, ...}`\n",
        "- No duplicate values allowed\n",
        "- Items are **unordered** and **unindexed**\n",
        "- Sets are **mutable** — you can add or remove items\n",
        "\n",
        "### 🔧 Common Set Methods\n",
        "- `add(item)` → adds a new item\n",
        "- `remove(item)` → removes a specific item\n",
        "- `discard(item)` → removes an item without error if it doesn't exist\n",
        "- `clear()` → removes all items\n",
        "- `union(set2)` → combines two sets\n",
        "- `intersection(set2)` → finds common items\n"
      ],
      "metadata": {
        "id": "aCEPfyCk1zia"
      }
    },
    {
      "cell_type": "code",
      "source": [
        "colors = {\"red\", \"blue\", \"green\", \"red\", \"yellow\"}  # 'red' appears only once\n",
        "print(\"Unique colors:\", colors)\n",
        "\n",
        "colors.add(\"purple\")      # Add a new color\n",
        "colors.remove(\"blue\")     # Remove a color\n",
        "\n",
        "for color in colors:\n",
        "    print(color)"
      ],
      "metadata": {
        "id": "vuAWKjAq1vbm"
      },
      "execution_count": null,
      "outputs": []
    },
    {
      "cell_type": "code",
      "source": [
        "# Define two sets\n",
        "set_a = {\"apple\", \"banana\", \"cherry\"}\n",
        "set_b = {\"banana\", \"cherry\", \"date\", \"fig\"}\n",
        "\n",
        "# Union: combine all unique items\n",
        "union_result = set_a.union(set_b)\n",
        "print(\"Union:\", union_result)\n",
        "\n",
        "# Intersection: items common to both sets\n",
        "intersection_result = set_a.intersection(set_b)\n",
        "print(\"Intersection:\", intersection_result)\n",
        "\n",
        "# Difference: items in set_a but not in set_b\n",
        "difference_result = set_a.difference(set_b)\n",
        "print(\"Difference (A - B):\", difference_result)\n",
        "\n",
        "# Symmetric difference: items in either set, but not both\n",
        "symmetric_diff_result = set_a.symmetric_difference(set_b)\n",
        "print(\"Symmetric Difference:\", symmetric_diff_result)\n"
      ],
      "metadata": {
        "id": "syi5MZM72tmp"
      },
      "execution_count": null,
      "outputs": []
    },
    {
      "cell_type": "markdown",
      "source": [
        "# **Dictionaries**\n",
        "\n",
        "A **dictionary** is a built-in data structure that stores data as key–value pairs. Think of it like a mini database or a labeled cabinet drawer: each label (key) points to a specific item (value).\n",
        "\n",
        "- Keys must be **unique** and **immutable** (like strings or numbers).\n",
        "- Values can be **any data type**—even lists or other dictionaries.\n",
        "- Dictionaries are **unordered** (until Python 3.7+) and **mutable**, meaning you can change, add, or remove items.\n",
        "\n",
        "### 🔍 Why Use Dictionaries?\n",
        "Use dictionaries when you want to:\n",
        "- Look up values by a name or label.\n",
        "- Store structured data like student records, settings, or translations.\n",
        "- Organize data with meaningful identifiers instead of just positions.\n",
        "\n",
        "### 🔧 Common Dictionary Functions\n",
        "* **Add**: dict[key] = value\n",
        "* **Remove one:** pop(key) or del dict[key]\n",
        "* **Remove last:** popitem()\n",
        "* **Remove all:** clear()"
      ],
      "metadata": {
        "id": "TiqujqpxzZl8"
      }
    },
    {
      "cell_type": "code",
      "execution_count": null,
      "metadata": {
        "id": "xKp5Go4XAX0d"
      },
      "outputs": [],
      "source": [
        "student = {\"name\": \"Alice\", \"age\": 21, \"grade\": \"A\"}\n",
        "print(student)\n",
        "\n",
        "student[\"major\"] = \"Computer Science\"\n",
        "print(student)"
      ]
    },
    {
      "cell_type": "code",
      "source": [
        "del student[\"grade\"]\n",
        "print(student)"
      ],
      "metadata": {
        "id": "CflXKsRgz70V"
      },
      "execution_count": null,
      "outputs": []
    },
    {
      "cell_type": "code",
      "source": [
        "last_item = student.popitem()\n",
        "print(\"Removed:\", last_item)\n",
        "print(student)"
      ],
      "metadata": {
        "id": "9-GNifvUz_S5"
      },
      "execution_count": null,
      "outputs": []
    },
    {
      "cell_type": "code",
      "source": [
        "last_item = student.popitem()\n",
        "print(\"Removed:\", last_item)\n",
        "print(student)"
      ],
      "metadata": {
        "id": "X3aVyjFBz_1B"
      },
      "execution_count": null,
      "outputs": []
    },
    {
      "cell_type": "code",
      "source": [
        "student.clear()\n",
        "print(student)"
      ],
      "metadata": {
        "id": "u6-gNrh20DPm"
      },
      "execution_count": null,
      "outputs": []
    },
    {
      "cell_type": "markdown",
      "source": [
        "## 🧪 Exercise: Build Your Grocery List\n",
        "Create a list called `grocery_list` and add at least 5 items using `append()`. Then:\n",
        "- Insert a new item at index 2\n",
        "- Remove the last item using `pop()`\n",
        "- Print the final list\n"
      ],
      "metadata": {
        "id": "u1151YNChVmW"
      }
    },
    {
      "cell_type": "code",
      "source": [
        "grocery_list = []\n",
        "\n",
        "# Add 5 items using append()\n",
        "grocery_list.append(\"milk\")\n",
        "grocery_list.append(\"bread\")\n",
        "grocery_list.append(\"eggs\")\n",
        "grocery_list.append(\"apples\")\n",
        "grocery_list.append(\"cheese\")\n",
        "\n",
        "# Insert a new item at index 2\n",
        "grocery_list.insert(2, \"____\")  # ← fill in your item\n",
        "\n",
        "# Remove the last item\n",
        "grocery_list.pop()\n",
        "\n",
        "# Print the final list\n",
        "print(grocery_list)"
      ],
      "metadata": {
        "id": "LX9lbIs0hk-S"
      },
      "execution_count": null,
      "outputs": []
    },
    {
      "cell_type": "markdown",
      "source": [
        "## 🧪 Exercise: Tuple of Coordinates\n",
        "Create a tuple `coordinates` with latitude and longitude. Then:\n",
        "- Print each value using indexing\n",
        "- Try modifying a value and observe the error\n"
      ],
      "metadata": {
        "id": "U7e-cshthZVK"
      }
    },
    {
      "cell_type": "code",
      "source": [
        "coordinates = (____, ____)  # ← fill in latitude and longitude\n",
        "\n",
        "# Print each value\n",
        "print(\"Latitude:\", coordinates[0])\n",
        "print(\"Longitude:\", coordinates[1])\n",
        "\n",
        "# Try modifying a value\n",
        "# coordinates[0] = ____  # ← uncomment and try this line"
      ],
      "metadata": {
        "id": "AO6eLLD6huwx"
      },
      "execution_count": null,
      "outputs": []
    },
    {
      "cell_type": "markdown",
      "source": [
        "## 🧪 Exercise: Student Grades\n",
        "Create a dictionary `grades` with 3 students and their scores. Then:\n",
        "- Add a new student\n",
        "- Update one score\n",
        "- Loop through the dictionary to print each student and grade\n"
      ],
      "metadata": {
        "id": "-ZkXspe8h1_6"
      }
    },
    {
      "cell_type": "code",
      "source": [
        "grades = {\n",
        "    \"Alice\": 85,\n",
        "    \"Bob\": 90,\n",
        "    \"Charlie\": 78\n",
        "}\n",
        "\n",
        "# Add a new student\n",
        "grades[\"____\"] = ____  # ← fill in name and score\n",
        "\n",
        "# Update one score\n",
        "grades[\"Alice\"] = ____  # ← new score for Alice\n",
        "\n",
        "# Print each student and grade\n",
        "for student, score in grades.items():\n",
        "    print(student, \"scored\", score)"
      ],
      "metadata": {
        "id": "pyRgOUGdhX4D"
      },
      "execution_count": null,
      "outputs": []
    },
    {
      "cell_type": "markdown",
      "source": [
        "## 🧪 Quiz Time: Test Your Python Knowledge!\n",
        "\n",
        "Ready to challenge yourself? Run the cell below to launch a short quiz based on what you've learned today.\n",
        "\n",
        "This quiz pulls questions from a JSON file and uses a custom runner to display them interactively. Good luck!\n"
      ],
      "metadata": {
        "id": "FzCVX9w03TJn"
      }
    },
    {
      "cell_type": "code",
      "source": [
        "import requests, json\n",
        "questions = json.loads(requests.get(\"https://raw.githubusercontent.com/solomontessema/Introduction-to-Python-with-Colab/master/quizzes/quiz_03.json\").text)\n",
        "exec(requests.get(\"https://raw.githubusercontent.com/solomontessema/Introduction-to-Python-with-Colab/master/quizzes/quiz_runner.py\").text)\n",
        "run_quiz(questions)\n"
      ],
      "metadata": {
        "id": "IlqlS4hJ3PCZ"
      },
      "execution_count": null,
      "outputs": []
    }
  ]
}