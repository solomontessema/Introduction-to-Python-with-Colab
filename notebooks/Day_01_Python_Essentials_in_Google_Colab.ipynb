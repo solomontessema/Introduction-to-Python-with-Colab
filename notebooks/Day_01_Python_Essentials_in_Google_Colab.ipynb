{
  "nbformat": 4,
  "nbformat_minor": 0,
  "metadata": {
    "colab": {
      "provenance": [],
      "include_colab_link": true
    },
    "kernelspec": {
      "name": "python3",
      "display_name": "Python 3"
    },
    "language_info": {
      "name": "python"
    }
  },
  "cells": [
    {
      "cell_type": "markdown",
      "metadata": {
        "id": "view-in-github",
        "colab_type": "text"
      },
      "source": [
        "<a href=\"https://colab.research.google.com/github/solomontessema/Introduction-to-Python-with-Colab/blob/master/notebooks/Day_01_Python_Essentials_in_Google_Colab.ipynb\" target=\"_parent\"><img src=\"https://colab.research.google.com/assets/colab-badge.svg\" alt=\"Open In Colab\"/></a>"
      ]
    },
    {
      "cell_type": "markdown",
      "source": [
        "<table>\n",
        "  <tr>\n",
        "    <td><img src=\"https://ionnova.com/img/ionnova_logo_name_2.png\" width=\"120px\"></td>\n",
        "    <td><h1>Day 1: Python Essentials  & Colab Setup</h1></td>\n",
        "  </tr>\n",
        "</table>\n",
        "\n"
      ],
      "metadata": {
        "id": "oE93cDAAXO-U"
      }
    },
    {
      "cell_type": "code",
      "source": [
        "print(\"Hello!\")"
      ],
      "metadata": {
        "id": "-gb3n34HGNiy"
      },
      "execution_count": null,
      "outputs": []
    },
    {
      "cell_type": "markdown",
      "source": [
        "## Variables"
      ],
      "metadata": {
        "id": "iJSrbCcWGruk"
      }
    },
    {
      "cell_type": "code",
      "source": [
        "price = 12 + 34\n",
        "print(\"Price: \", price)"
      ],
      "metadata": {
        "id": "WYi_vZ8oGor0"
      },
      "execution_count": null,
      "outputs": []
    },
    {
      "cell_type": "code",
      "source": [
        "price = 12.99\n",
        "print(\"Price: \", price)"
      ],
      "metadata": {
        "id": "LRp38o8mJp-b"
      },
      "execution_count": null,
      "outputs": []
    },
    {
      "cell_type": "code",
      "source": [
        "name = \"Solomon\"\n",
        "print(name)"
      ],
      "metadata": {
        "id": "4jxrFqiqJPWr"
      },
      "execution_count": null,
      "outputs": []
    },
    {
      "cell_type": "code",
      "source": [
        "# Boolean\n",
        "is_active = False\n",
        "\n",
        "print(is_active)"
      ],
      "metadata": {
        "id": "UH9KVLYIJ409"
      },
      "execution_count": null,
      "outputs": []
    },
    {
      "cell_type": "markdown",
      "source": [
        "## Control Flow: if-else statement"
      ],
      "metadata": {
        "id": "hSbEzwC_KloK"
      }
    },
    {
      "cell_type": "code",
      "source": [
        "if price > 15:\n",
        "  print (\"Big Number\")\n",
        "else:\n",
        "  print (\"Small Number\")"
      ],
      "metadata": {
        "id": "ip1XQfSWKsVj"
      },
      "execution_count": null,
      "outputs": []
    },
    {
      "cell_type": "code",
      "source": [
        "if price < 10:\n",
        "  print (\"Small Number\")\n",
        "elif price < 15:\n",
        "  print (\"Medium Number\")\n",
        "else:\n",
        "  print (\"Big Number\")\n"
      ],
      "metadata": {
        "id": "KyQBPMJfLn2q"
      },
      "execution_count": null,
      "outputs": []
    }
  ]
}