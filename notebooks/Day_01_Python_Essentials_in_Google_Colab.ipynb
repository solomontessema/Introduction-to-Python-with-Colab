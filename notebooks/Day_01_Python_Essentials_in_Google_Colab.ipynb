{
  "nbformat": 4,
  "nbformat_minor": 0,
  "metadata": {
    "colab": {
      "provenance": [],
      "include_colab_link": true
    },
    "kernelspec": {
      "name": "python3",
      "display_name": "Python 3"
    },
    "language_info": {
      "name": "python"
    }
  },
  "cells": [
    {
      "cell_type": "markdown",
      "metadata": {
        "id": "view-in-github",
        "colab_type": "text"
      },
      "source": [
        "<a href=\"https://colab.research.google.com/github/solomontessema/Introduction-to-Python-with-Colab/blob/master/notebooks/Day_01_Python_Essentials_in_Google_Colab.ipynb\" target=\"_parent\"><img src=\"https://colab.research.google.com/assets/colab-badge.svg\" alt=\"Open In Colab\"/></a>"
      ]
    },
    {
      "cell_type": "markdown",
      "source": [
        "<table>\n",
        "  <tr>\n",
        "    <td><img src=\"https://ionnova.com/img/ionnova_logo_name_2.png\" width=\"120px\"></td>\n",
        "    <td><h1>Python Essentials in Google Colab</h1></td>\n",
        "  </tr>\n",
        "</table>\n",
        "\n"
      ],
      "metadata": {
        "id": "oE93cDAAXO-U"
      }
    },
    {
      "cell_type": "markdown",
      "source": [
        "# Day 1: Python Essentials"
      ],
      "metadata": {
        "id": "VWeOq2U0F4My"
      }
    },
    {
      "cell_type": "code",
      "source": [
        "print(\"Hello!\")"
      ],
      "metadata": {
        "colab": {
          "base_uri": "https://localhost:8080/"
        },
        "id": "-gb3n34HGNiy",
        "outputId": "ab431d4d-d00e-435b-a654-877ae27b1768"
      },
      "execution_count": null,
      "outputs": [
        {
          "output_type": "stream",
          "name": "stdout",
          "text": [
            "Hello!\n"
          ]
        }
      ]
    },
    {
      "cell_type": "markdown",
      "source": [
        "## Variables"
      ],
      "metadata": {
        "id": "iJSrbCcWGruk"
      }
    },
    {
      "cell_type": "code",
      "source": [
        "price = 12 + 34\n",
        "print(\"Price: \", price)"
      ],
      "metadata": {
        "colab": {
          "base_uri": "https://localhost:8080/"
        },
        "id": "WYi_vZ8oGor0",
        "outputId": "ee03f501-cfc4-4adf-ff3c-81f57f0df94f"
      },
      "execution_count": null,
      "outputs": [
        {
          "output_type": "stream",
          "name": "stdout",
          "text": [
            "Price:  46\n"
          ]
        }
      ]
    },
    {
      "cell_type": "code",
      "source": [
        "price = 12.99\n",
        "print(\"Price: \", price)"
      ],
      "metadata": {
        "colab": {
          "base_uri": "https://localhost:8080/"
        },
        "id": "LRp38o8mJp-b",
        "outputId": "562afdbb-40b8-4257-cc12-337100833ecf"
      },
      "execution_count": null,
      "outputs": [
        {
          "output_type": "stream",
          "name": "stdout",
          "text": [
            "Price:  12.99\n"
          ]
        }
      ]
    },
    {
      "cell_type": "code",
      "source": [
        "name = \"Solomon\"\n",
        "print(name)"
      ],
      "metadata": {
        "colab": {
          "base_uri": "https://localhost:8080/"
        },
        "id": "4jxrFqiqJPWr",
        "outputId": "746bc781-e7b1-4ef6-d68e-6bfa10a3ae2d"
      },
      "execution_count": null,
      "outputs": [
        {
          "output_type": "stream",
          "name": "stdout",
          "text": [
            "Solomon\n"
          ]
        }
      ]
    },
    {
      "cell_type": "code",
      "source": [
        "# Boolean\n",
        "is_active = False\n",
        "\n",
        "print(is_active)"
      ],
      "metadata": {
        "colab": {
          "base_uri": "https://localhost:8080/"
        },
        "id": "UH9KVLYIJ409",
        "outputId": "b4d13f61-6938-4ed6-f1bb-d820a5ffd472"
      },
      "execution_count": null,
      "outputs": [
        {
          "output_type": "stream",
          "name": "stdout",
          "text": [
            "False\n"
          ]
        }
      ]
    },
    {
      "cell_type": "markdown",
      "source": [
        "## Control Flow: if-else statement"
      ],
      "metadata": {
        "id": "hSbEzwC_KloK"
      }
    },
    {
      "cell_type": "code",
      "source": [
        "if price > 15:\n",
        "  print (\"Big Number\")\n",
        "else:\n",
        "  print (\"Small Number\")"
      ],
      "metadata": {
        "colab": {
          "base_uri": "https://localhost:8080/"
        },
        "id": "ip1XQfSWKsVj",
        "outputId": "c7d3a1bf-03ca-4340-b157-d035d8170dad"
      },
      "execution_count": null,
      "outputs": [
        {
          "output_type": "stream",
          "name": "stdout",
          "text": [
            "Small Number\n"
          ]
        }
      ]
    },
    {
      "cell_type": "code",
      "source": [
        "if price < 10:\n",
        "  print (\"Small Number\")\n",
        "elif price < 15:\n",
        "  print (\"Medium Number\")\n",
        "else:\n",
        "  print (\"Big Number\")\n"
      ],
      "metadata": {
        "colab": {
          "base_uri": "https://localhost:8080/"
        },
        "id": "KyQBPMJfLn2q",
        "outputId": "ff6391c9-fa1c-4800-e36e-538573721eb0"
      },
      "execution_count": null,
      "outputs": [
        {
          "output_type": "stream",
          "name": "stdout",
          "text": [
            "Medium Number\n"
          ]
        }
      ]
    }
  ]
}